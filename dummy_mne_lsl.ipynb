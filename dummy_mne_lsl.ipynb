{
 "cells": [
  {
   "cell_type": "code",
   "execution_count": 1,
   "metadata": {},
   "outputs": [
    {
     "name": "stderr",
     "output_type": "stream",
     "text": [
      "2025-03-08 21:44:35.929 (   0.345s) [          449137]      netinterfaces.cpp:91    INFO| netif 'lo0' (status: 1, multicast: 32768, broadcast: 0)\n",
      "2025-03-08 21:44:35.929 (   0.345s) [          449137]      netinterfaces.cpp:91    INFO| netif 'lo0' (status: 1, multicast: 32768, broadcast: 0)\n",
      "2025-03-08 21:44:35.929 (   0.345s) [          449137]      netinterfaces.cpp:102   INFO| \tIPv4 addr: 7f000001\n",
      "2025-03-08 21:44:35.929 (   0.345s) [          449137]      netinterfaces.cpp:91    INFO| netif 'lo0' (status: 1, multicast: 32768, broadcast: 0)\n",
      "2025-03-08 21:44:35.929 (   0.345s) [          449137]      netinterfaces.cpp:105   INFO| \tIPv6 addr: ::1\n",
      "2025-03-08 21:44:35.929 (   0.345s) [          449137]      netinterfaces.cpp:91    INFO| netif 'lo0' (status: 1, multicast: 32768, broadcast: 0)\n",
      "2025-03-08 21:44:35.929 (   0.345s) [          449137]      netinterfaces.cpp:105   INFO| \tIPv6 addr: fe80::1%lo0\n",
      "2025-03-08 21:44:35.929 (   0.345s) [          449137]      netinterfaces.cpp:91    INFO| netif 'gif0' (status: 0, multicast: 32768, broadcast: 0)\n",
      "2025-03-08 21:44:35.929 (   0.345s) [          449137]      netinterfaces.cpp:91    INFO| netif 'stf0' (status: 0, multicast: 0, broadcast: 0)\n",
      "2025-03-08 21:44:35.929 (   0.345s) [          449137]      netinterfaces.cpp:91    INFO| netif 'anpi2' (status: 1, multicast: 32768, broadcast: 2)\n",
      "2025-03-08 21:44:35.929 (   0.345s) [          449137]      netinterfaces.cpp:91    INFO| netif 'anpi1' (status: 1, multicast: 32768, broadcast: 2)\n",
      "2025-03-08 21:44:35.929 (   0.345s) [          449137]      netinterfaces.cpp:91    INFO| netif 'anpi0' (status: 1, multicast: 32768, broadcast: 2)\n",
      "2025-03-08 21:44:35.929 (   0.345s) [          449137]      netinterfaces.cpp:91    INFO| netif 'en4' (status: 1, multicast: 32768, broadcast: 2)\n",
      "2025-03-08 21:44:35.929 (   0.345s) [          449137]      netinterfaces.cpp:91    INFO| netif 'en5' (status: 1, multicast: 32768, broadcast: 2)\n",
      "2025-03-08 21:44:35.930 (   0.345s) [          449137]      netinterfaces.cpp:91    INFO| netif 'en7' (status: 1, multicast: 32768, broadcast: 2)\n",
      "2025-03-08 21:44:35.930 (   0.345s) [          449137]      netinterfaces.cpp:91    INFO| netif 'en1' (status: 1, multicast: 32768, broadcast: 2)\n",
      "2025-03-08 21:44:35.930 (   0.345s) [          449137]      netinterfaces.cpp:91    INFO| netif 'en2' (status: 1, multicast: 32768, broadcast: 2)\n",
      "2025-03-08 21:44:35.930 (   0.345s) [          449137]      netinterfaces.cpp:91    INFO| netif 'en3' (status: 1, multicast: 32768, broadcast: 2)\n",
      "2025-03-08 21:44:35.930 (   0.345s) [          449137]      netinterfaces.cpp:91    INFO| netif 'bridge0' (status: 1, multicast: 32768, broadcast: 2)\n",
      "2025-03-08 21:44:35.930 (   0.345s) [          449137]      netinterfaces.cpp:91    INFO| netif 'ap1' (status: 1, multicast: 32768, broadcast: 2)\n",
      "2025-03-08 21:44:35.930 (   0.345s) [          449137]      netinterfaces.cpp:91    INFO| netif 'en0' (status: 1, multicast: 32768, broadcast: 2)\n",
      "2025-03-08 21:44:35.930 (   0.345s) [          449137]      netinterfaces.cpp:91    INFO| netif 'en0' (status: 1, multicast: 32768, broadcast: 2)\n",
      "2025-03-08 21:44:35.930 (   0.345s) [          449137]      netinterfaces.cpp:105   INFO| \tIPv6 addr: fe80::c42:48c9:b994:c1c4%en0\n",
      "2025-03-08 21:44:35.930 (   0.345s) [          449137]      netinterfaces.cpp:91    INFO| netif 'en0' (status: 1, multicast: 32768, broadcast: 2)\n",
      "2025-03-08 21:44:35.930 (   0.345s) [          449137]      netinterfaces.cpp:102   INFO| \tIPv4 addr: c0a80164\n",
      "2025-03-08 21:44:35.930 (   0.345s) [          449137]      netinterfaces.cpp:91    INFO| netif 'awdl0' (status: 1, multicast: 32768, broadcast: 2)\n",
      "2025-03-08 21:44:35.930 (   0.345s) [          449137]      netinterfaces.cpp:91    INFO| netif 'awdl0' (status: 1, multicast: 32768, broadcast: 2)\n",
      "2025-03-08 21:44:35.930 (   0.345s) [          449137]      netinterfaces.cpp:105   INFO| \tIPv6 addr: fe80::4c3f:75ff:fe5a:b6bf%awdl0\n",
      "2025-03-08 21:44:35.930 (   0.345s) [          449137]      netinterfaces.cpp:91    INFO| netif 'llw0' (status: 1, multicast: 32768, broadcast: 2)\n",
      "2025-03-08 21:44:35.930 (   0.345s) [          449137]      netinterfaces.cpp:91    INFO| netif 'llw0' (status: 1, multicast: 32768, broadcast: 2)\n",
      "2025-03-08 21:44:35.930 (   0.345s) [          449137]      netinterfaces.cpp:105   INFO| \tIPv6 addr: fe80::4c3f:75ff:fe5a:b6bf%llw0\n",
      "2025-03-08 21:44:35.930 (   0.345s) [          449137]      netinterfaces.cpp:91    INFO| netif 'utun0' (status: 1, multicast: 32768, broadcast: 0)\n",
      "2025-03-08 21:44:35.930 (   0.345s) [          449137]      netinterfaces.cpp:91    INFO| netif 'utun0' (status: 1, multicast: 32768, broadcast: 0)\n",
      "2025-03-08 21:44:35.930 (   0.345s) [          449137]      netinterfaces.cpp:105   INFO| \tIPv6 addr: fe80::14e4:6f7:350e:7c2%utun0\n",
      "2025-03-08 21:44:35.930 (   0.345s) [          449137]      netinterfaces.cpp:91    INFO| netif 'utun1' (status: 1, multicast: 32768, broadcast: 0)\n",
      "2025-03-08 21:44:35.930 (   0.345s) [          449137]      netinterfaces.cpp:91    INFO| netif 'utun1' (status: 1, multicast: 32768, broadcast: 0)\n",
      "2025-03-08 21:44:35.930 (   0.345s) [          449137]      netinterfaces.cpp:105   INFO| \tIPv6 addr: fe80::428d:8cca:2a46:e770%utun1\n",
      "2025-03-08 21:44:35.930 (   0.345s) [          449137]      netinterfaces.cpp:91    INFO| netif 'utun2' (status: 1, multicast: 32768, broadcast: 0)\n",
      "2025-03-08 21:44:35.930 (   0.345s) [          449137]      netinterfaces.cpp:91    INFO| netif 'utun2' (status: 1, multicast: 32768, broadcast: 0)\n",
      "2025-03-08 21:44:35.930 (   0.345s) [          449137]      netinterfaces.cpp:105   INFO| \tIPv6 addr: fe80::449:ab46:aa11:8eaf%utun2\n",
      "2025-03-08 21:44:35.930 (   0.345s) [          449137]      netinterfaces.cpp:91    INFO| netif 'utun3' (status: 1, multicast: 32768, broadcast: 0)\n",
      "2025-03-08 21:44:35.930 (   0.345s) [          449137]      netinterfaces.cpp:91    INFO| netif 'utun3' (status: 1, multicast: 32768, broadcast: 0)\n",
      "2025-03-08 21:44:35.930 (   0.345s) [          449137]      netinterfaces.cpp:105   INFO| \tIPv6 addr: fe80::ce81:b1c:bd2c:69e%utun3\n",
      "2025-03-08 21:44:35.930 (   0.345s) [          449137]         api_config.cpp:271   INFO| Loaded default config\n",
      "2025-03-08 21:44:35.933 (   0.349s) [          449137]             common.cpp:66    INFO| git:/branch:HEAD/build:Release/compiler:AppleClang-15.0.0.15000309/link:SHARED\n",
      "2025-03-08 21:44:35.933 (   0.349s) [          449137]         udp_server.cpp:82    WARN| Could not bind multicast responder for ff02:113d:6fdd:2c17:a643:ffe2:1bd1:3cd2 to interface ::1 (Can't assign requested address)\n",
      "2025-03-08 21:44:35.933 (   0.349s) [          449137]         udp_server.cpp:82    WARN| Could not bind multicast responder for ff05:113d:6fdd:2c17:a643:ffe2:1bd1:3cd2 to interface ::1 (Can't assign requested address)\n"
     ]
    }
   ],
   "source": [
    "import time\n",
    "import uuid\n",
    "\n",
    "from matplotlib import pyplot as plt\n",
    "from mne import set_log_level\n",
    "\n",
    "from mne_lsl.datasets import sample\n",
    "from mne_lsl.player import PlayerLSL as Player\n",
    "from mne_lsl.stream import StreamLSL as Stream\n",
    "\n",
    "set_log_level(\"WARNING\")\n",
    "\n",
    "source_id = uuid.uuid4().hex\n",
    "fname = sample.data_path() / \"sample-ant-raw.fif\"\n",
    "player = Player(fname, chunk_size=200, source_id=source_id).start()"
   ]
  },
  {
   "cell_type": "code",
   "execution_count": null,
   "metadata": {},
   "outputs": [],
   "source": []
  }
 ],
 "metadata": {
  "kernelspec": {
   "display_name": "lsl_viewer",
   "language": "python",
   "name": "python3"
  },
  "language_info": {
   "codemirror_mode": {
    "name": "ipython",
    "version": 3
   },
   "file_extension": ".py",
   "mimetype": "text/x-python",
   "name": "python",
   "nbconvert_exporter": "python",
   "pygments_lexer": "ipython3",
   "version": "3.10.15"
  }
 },
 "nbformat": 4,
 "nbformat_minor": 2
}
