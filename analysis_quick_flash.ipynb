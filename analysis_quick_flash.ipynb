{
 "cells": [
  {
   "cell_type": "code",
   "execution_count": 27,
   "id": "ccc4fbff",
   "metadata": {},
   "outputs": [],
   "source": [
    "import numpy as np\n",
    "import pandas as pd\n",
    "import matplotlib.pyplot as plt\n",
    "import seaborn as sns\n",
    "import pyxdf\n",
    "\n",
    "%matplotlib inline"
   ]
  },
  {
   "cell_type": "markdown",
   "id": "b48d6e07",
   "metadata": {},
   "source": [
    "# Analyze screen flicker delay/jitter"
   ]
  },
  {
   "cell_type": "markdown",
   "id": "3df07323",
   "metadata": {},
   "source": [
    "## Load lsl recording"
   ]
  },
  {
   "cell_type": "code",
   "execution_count": 28,
   "id": "b8701480",
   "metadata": {},
   "outputs": [
    {
     "name": "stdout",
     "output_type": "stream",
     "text": [
      "['ScreenMarkerStream']\n",
      "['ScreenSensorStream']\n"
     ]
    }
   ],
   "source": [
    "fpath = 'results\\sub-P001\\ses-S001\\eeg\\sub-P001_ses-S001_task-Default_run-002_eeg.xdf'\n",
    "fpath = 'results\\sub-P001\\ses-S001\\eeg\\sub-P001_ses-S001_task-vsync_test_run-001_eeg.xdf'\n",
    "fpath = 'results\\sub-P001\\ses-S001\\eeg\\sub-P001_ses-S001_task-vsync_test_run-002_eeg.xdf'\n",
    "fpath = 'results\\sub-P001\\ses-S001\\eeg\\sub-P001_ses-S001_task-vsync_test_run-005_eeg.xdf'\n",
    "fpath = 'results\\sub-P001\\ses-S001\\eeg\\sub-P001_ses-S001_task-vsync_test_psychopy_run-001_eeg.xdf'\n",
    "fpath = 'C:/Users/Experiment/Documents/CurrentStudy/sub-P001/ses-S001/eeg/sub-P001_ses-S001_task-Default_run-001_eeg.xdf'\n",
    "# fpath = 'C:/Users/Experiment/Documents/CurrentStudy/sub-P001/ses-S001/eeg/sub-P001_ses-S001_task-Default_run-001_eeg_old1.xdf'\n",
    "# fpath = \"../../CurrentStudy/sub-P001/ses-S001/eeg/sub-P001_ses-S001_task-Default_run-001_eeg.xdf\"\n",
    "fpath = \"../../CurrentStudy/sub-P001/ses-S001/eeg/sub-P001_ses-S001_task-slow_erp_test_run-003_eeg.xdf\"\n",
    "fpath = \"../../CurrentStudy/sub-P001/ses-S001/eeg/sub-P001_ses-S001_task-pyglet_slow_erp_run-001_eeg.xdf\"\n",
    "fpath = \"../../CurrentStudy/sub-P001/ses-S001/eeg/sub-P001_ses-S001_task-pyglet_fast_erp_run-001_eeg.xdf\"\n",
    "fpath = \"../../CurrentStudy/sub-P001/ses-S001/eeg/sub-P001_ses-S001_task-new-monitor-test_run-001_eeg.xdf\"\n",
    "fpath = \"../../CurrentStudy/sub-P001/ses-S001/eeg/sub-P001_ses-S001_task-new_monitor_test_run-002_eeg.xdf\"\n",
    "\n",
    "fpath = 'D:/Documents/CurrentStudy/sub-P001/ses-S001/eeg/sub-P001_ses-S001_task-test_run_run-001_eeg.xdf'\n",
    "fpath = \"../CurrentStudy/sub-P001/ses-S001/eeg/sub-P001_ses-S001_task-screen_flip_test_run-001_eeg.xdf\"\n",
    "# \"D:\\Documents\\CurrentStudy\\sub-P001\\ses-S001\\eeg\\sub-P001_ses-S001_task-test_run_run-001_eeg.xdf\"\n",
    "streams, header = pyxdf.load_xdf(fpath)\n",
    "\n",
    "for stream in streams:\n",
    "    print(stream['info']['name'])"
   ]
  },
  {
   "cell_type": "code",
   "execution_count": 29,
   "id": "9f0caf47",
   "metadata": {},
   "outputs": [],
   "source": [
    "marker_stream = [s for s in streams if s['info']['name'][0] == 'ScreenMarkerStream'][0]\n",
    "sensor_stream = [s for s in streams if s['info']['name'][0] == 'ScreenSensorStream'][0]\n",
    "\n",
    "marker_timestamp = marker_stream['time_stamps']\n",
    "marker_timeseries = marker_stream['time_series'].flatten()\n",
    "sensor_timestamp = sensor_stream['time_stamps']\n",
    "sensor_timeseries = sensor_stream['time_series'].flatten()"
   ]
  },
  {
   "cell_type": "code",
   "execution_count": 30,
   "id": "a26c7bf8",
   "metadata": {},
   "outputs": [
    {
     "data": {
      "text/plain": [
       "array([200, 110, 110, 110, 110, 110, 110, 110, 110, 110, 110, 110, 110,\n",
       "       210, 201, 110, 110, 110, 110, 110, 110, 110, 110, 110, 110, 110,\n",
       "       110, 211, 202, 110, 110, 110, 110, 110, 110, 110, 110, 110, 110,\n",
       "       110, 110, 212, 203, 110, 110, 110, 110, 110, 110, 110, 110, 110,\n",
       "       110, 110, 110, 213, 204, 110, 110, 110, 110, 110, 110, 110, 110,\n",
       "       110, 110, 110, 110, 214, 205, 110, 110, 110, 110, 110, 110, 110,\n",
       "       110, 110, 110, 110, 110, 215, 206, 110, 110, 110, 110, 110, 110,\n",
       "       110, 110, 110, 110, 110, 110, 216, 207, 110, 110, 110, 110, 110,\n",
       "       110, 110, 110, 110, 110, 110, 110, 217,   0], dtype=int16)"
      ]
     },
     "execution_count": 30,
     "metadata": {},
     "output_type": "execute_result"
    }
   ],
   "source": [
    "marker_timeseries"
   ]
  },
  {
   "cell_type": "markdown",
   "id": "07d7a45a",
   "metadata": {},
   "source": [
    "## Check if marker is the same as codebook"
   ]
  },
  {
   "cell_type": "code",
   "execution_count": 31,
   "id": "e649ac14",
   "metadata": {},
   "outputs": [
    {
     "data": {
      "text/plain": [
       "(113,)"
      ]
     },
     "execution_count": 31,
     "metadata": {},
     "output_type": "execute_result"
    }
   ],
   "source": [
    "marker_timestamp.shape\n",
    "marker_timeseries.shape"
   ]
  },
  {
   "cell_type": "code",
   "execution_count": 32,
   "id": "01b87971",
   "metadata": {},
   "outputs": [
    {
     "data": {
      "text/plain": [
       "np.True_"
      ]
     },
     "execution_count": 32,
     "metadata": {},
     "output_type": "execute_result"
    }
   ],
   "source": [
    "# CHeck if there are (n_trials * n_flashes) targets\n",
    "marker_timestamp = marker_timestamp[marker_timeseries == 110]\n",
    "marker_timeseries = marker_timeseries[marker_timeseries == 110]\n",
    "marker_timeseries = (marker_timeseries == 110).astype(int)\n",
    "\n",
    "marker_timeseries.sum() == 8*12\n"
   ]
  },
  {
   "cell_type": "markdown",
   "id": "0b0e3271",
   "metadata": {},
   "source": [
    "## Clip start and end time"
   ]
  },
  {
   "cell_type": "code",
   "execution_count": 33,
   "id": "030fdb12",
   "metadata": {},
   "outputs": [
    {
     "name": "stdout",
     "output_type": "stream",
     "text": [
      "(192,) (192,)\n"
     ]
    }
   ],
   "source": [
    "sensor_timeseries = sensor_timeseries[(sensor_timestamp > marker_timestamp[0]) & (sensor_timestamp < marker_timestamp[-1] + 0.025)]\n",
    "sensor_timestamp = sensor_timestamp[(sensor_timestamp > marker_timestamp[0]) & (sensor_timestamp < marker_timestamp[-1] + 0.025)]\n",
    "print(sensor_timeseries.shape, sensor_timestamp.shape)\n",
    "\n",
    "%matplotlib qt\n",
    "plt.plot(marker_timestamp, marker_timeseries, marker='o', label='marker')\n",
    "plt.plot(sensor_timestamp, sensor_timeseries, marker='x', label='sensor')\n",
    "plt.legend()\n",
    "plt.show()\n"
   ]
  },
  {
   "cell_type": "markdown",
   "id": "54b640bd",
   "metadata": {},
   "source": [
    "## Filter sensor jitter"
   ]
  },
  {
   "cell_type": "code",
   "execution_count": 34,
   "id": "3fdab4aa",
   "metadata": {},
   "outputs": [
    {
     "name": "stdout",
     "output_type": "stream",
     "text": [
      "(96, 4)\n",
      "       timestamp  value  timestamp_sensor  value_sensor\n",
      "0  339931.919845      1     339931.923676             1\n",
      "1  339932.919870      1     339932.923411             1\n",
      "2  339933.903234      1     339933.907177             1\n",
      "3  339934.786591      1     339934.790450             1\n",
      "4  339935.786614      1     339935.790447             1\n",
      "\n",
      "# of NaNs:\n",
      "timestamp           0\n",
      "value               0\n",
      "timestamp_sensor    0\n",
      "value_sensor        0\n",
      "dtype: int64\n"
     ]
    }
   ],
   "source": [
    "df_marker = pd.DataFrame(\n",
    "    {\n",
    "        'timestamp': marker_timestamp,\n",
    "        'value': marker_timeseries\n",
    "    }\n",
    ")\n",
    "df_sensor = pd.DataFrame(\n",
    "    {\n",
    "        'timestamp_sensor': sensor_timestamp,\n",
    "        'value_sensor': sensor_timeseries\n",
    "    }\n",
    ")\n",
    "\n",
    "df_merged = pd.merge_asof(df_marker, df_sensor, left_on='timestamp', right_on='timestamp_sensor', direction='nearest', tolerance=0.01)\n",
    "print(df_merged.shape)\n",
    "print(df_merged.head())\n",
    "print('\\n# of NaNs:')\n",
    "print(df_merged.isna().sum())"
   ]
  },
  {
   "cell_type": "code",
   "execution_count": 35,
   "id": "264c20f5",
   "metadata": {},
   "outputs": [],
   "source": [
    "%matplotlib qt\n",
    "plt.plot(marker_timestamp, marker_timeseries, marker='o', label='marker')\n",
    "plt.plot(sensor_timestamp, sensor_timeseries, marker='x', label='sensor')\n",
    "plt.plot(df_merged['timestamp_sensor'], df_merged['value_sensor'], marker='x', label='sensor_filtered')\n",
    "plt.legend()\n",
    "plt.show()"
   ]
  },
  {
   "cell_type": "code",
   "execution_count": 36,
   "id": "90519d3f",
   "metadata": {},
   "outputs": [
    {
     "name": "stdout",
     "output_type": "stream",
     "text": [
      "Mean delay: 0.0037195396216702648\n",
      "Delay std: 0.0001023726217820233\n"
     ]
    },
    {
     "data": {
      "image/png": "[encoded data removed]",
      "text/plain": [
       "<Figure size 640x480 with 1 Axes>"
      ]
     },
     "metadata": {},
     "output_type": "display_data"
    }
   ],
   "source": [
    "%matplotlib inline\n",
    "diff = df_merged['timestamp_sensor'] - df_merged['timestamp']\n",
    "print('Mean delay:', diff.mean())\n",
    "print('Delay std:', diff.std())\n",
    "plt.clf()\n",
    "plt.cla()\n",
    "sns.boxplot(df_merged['timestamp_sensor'] - df_merged['timestamp'])\n",
    "plt.show()"
   ]
  },
  {
   "cell_type": "code",
   "execution_count": 37,
   "id": "1c68d84c",
   "metadata": {},
   "outputs": [],
   "source": [
    "# Mean delay: 0.003139559622785386\n",
    "# Delay std: 0.0004232748245344668"
   ]
  },
  {
   "cell_type": "code",
   "execution_count": 38,
   "id": "90398a0b",
   "metadata": {},
   "outputs": [],
   "source": [
    "%matplotlib qt\n",
    "plt.scatter(df_merged['timestamp'], np.zeros_like(df_merged['timestamp']), marker='o', label='sensor_filtered')\n",
    "plt.scatter(df_merged['timestamp_sensor'], np.zeros_like(df_merged['timestamp_sensor']), marker='x', label='sensor_filtered')\n",
    "plt.show()"
   ]
  },
  {
   "cell_type": "code",
   "execution_count": 39,
   "id": "8bf0d456",
   "metadata": {},
   "outputs": [],
   "source": [
    "from utils import load_codebooks_block_2\n",
    "\n",
    "codebook = load_codebooks_block_2()[0, :, 0]"
   ]
  },
  {
   "cell_type": "code",
   "execution_count": 40,
   "id": "0f10e66d",
   "metadata": {},
   "outputs": [
    {
     "data": {
      "text/plain": [
       "(48,)"
      ]
     },
     "execution_count": 40,
     "metadata": {},
     "output_type": "execute_result"
    }
   ],
   "source": [
    "codebook.shape"
   ]
  },
  {
   "cell_type": "code",
   "execution_count": 41,
   "id": "fcee5bbc",
   "metadata": {},
   "outputs": [
    {
     "data": {
      "text/plain": [
       "array([0., 1., 0., 0., 1., 0., 0., 0., 1., 0., 0., 0., 0., 0., 1., 0., 0.,\n",
       "       0., 1., 0., 0., 0., 0., 1., 0., 0., 0., 1., 0., 0., 0., 1., 0., 1.,\n",
       "       0., 0., 0., 1., 0., 0., 0., 1., 0., 0., 1., 0., 0., 0.])"
      ]
     },
     "execution_count": 41,
     "metadata": {},
     "output_type": "execute_result"
    }
   ],
   "source": [
    "codebook"
   ]
  },
  {
   "cell_type": "code",
   "execution_count": null,
   "id": "45489932",
   "metadata": {},
   "outputs": [],
   "source": []
  }
 ],
 "metadata": {
  "kernelspec": {
   "display_name": "eamar310",
   "language": "python",
   "name": "python3"
  },
  "language_info": {
   "codemirror_mode": {
    "name": "ipython",
    "version": 3
   },
   "file_extension": ".py",
   "mimetype": "text/x-python",
   "name": "python",
   "nbconvert_exporter": "python",
   "pygments_lexer": "ipython3",
   "version": "3.10.18"
  }
 },
 "nbformat": 4,
 "nbformat_minor": 5
}
