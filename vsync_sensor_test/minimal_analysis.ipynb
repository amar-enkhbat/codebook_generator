{
 "cells": [
  {
   "cell_type": "code",
   "execution_count": 1,
   "id": "84852d70",
   "metadata": {},
   "outputs": [],
   "source": [
    "import pandas as pd\n",
    "import matplotlib.pyplot as plt\n",
    "import seaborn as sns\n",
    "\n",
    "sns.set_theme(style=\"whitegrid\")"
   ]
  },
  {
   "cell_type": "code",
   "execution_count": 2,
   "id": "aac020bf",
   "metadata": {},
   "outputs": [
    {
     "name": "stdout",
     "output_type": "stream",
     "text": [
      "(500, 2)\n",
      "(12, 2)\n"
     ]
    }
   ],
   "source": [
    "df_pyglet = pd.read_csv(\"pyglet_results.csv\")\n",
    "print(df_pyglet.shape)\n",
    "df_sensor = pd.read_csv(\"sensor_results.csv\")\n",
    "print(df_sensor.shape)"
   ]
  },
  {
   "cell_type": "code",
   "execution_count": 3,
   "id": "58355b37",
   "metadata": {},
   "outputs": [],
   "source": [
    "# Start from first pause to sync\n",
    "first_pause = df_pyglet['timestamp'][df_pyglet['timestamp'].diff() > 0.5].values[0]\n",
    "df_pyglet = df_pyglet[df_pyglet['timestamp'] >= first_pause]\n",
    "df_sensor = df_sensor[df_sensor['timestamp'] >= first_pause]\n",
    "\n",
    "# Ignore sensor results after last pyglet timestamp\n",
    "last_pyglet = df_pyglet['timestamp'].values[-1]\n",
    "df_sensor = df_sensor[df_sensor['timestamp'] <= last_pyglet]"
   ]
  },
  {
   "cell_type": "code",
   "execution_count": 4,
   "id": "8337bf61",
   "metadata": {},
   "outputs": [],
   "source": [
    "# Interactive\n",
    "%matplotlib qt\n",
    "\n",
    "first_pause = df_pyglet['timestamp'][df_pyglet['timestamp'].diff() > 0.5].values[0]\n",
    "plt.plot(df_pyglet['timestamp'], df_pyglet['value'], label='Pyglet')\n",
    "plt.plot(df_sensor['timestamp'], df_sensor['value'], label='Sensor', marker='x')\n",
    "plt.xlabel('Timestamp')\n",
    "plt.ylabel('Value')\n",
    "plt.legend()\n",
    "plt.show()"
   ]
  },
  {
   "cell_type": "code",
   "execution_count": null,
   "id": "bde9e459",
   "metadata": {},
   "outputs": [],
   "source": []
  },
  {
   "cell_type": "code",
   "execution_count": 13,
   "id": "c12427f2",
   "metadata": {},
   "outputs": [
    {
     "data": {
      "text/plain": [
       "<Axes: >"
      ]
     },
     "execution_count": 13,
     "metadata": {},
     "output_type": "execute_result"
    },
    {
     "data": {
      "image/png": "[encoded data removed]",
      "text/plain": [
       "<Figure size 640x480 with 1 Axes>"
      ]
     },
     "metadata": {},
     "output_type": "display_data"
    }
   ],
   "source": [
    "%matplotlib inline\n",
    "\n",
    "df_pyglet['timestamp_diff'] = df_pyglet['timestamp'].diff().fillna(0)\n",
    "df_pyglet['timestamp_diff'][df_pyglet['timestamp_diff'] < 0.5].iloc[1:].hist(bins=100)"
   ]
  },
  {
   "cell_type": "code",
   "execution_count": 14,
   "id": "3e46542b",
   "metadata": {},
   "outputs": [
    {
     "data": {
      "text/plain": [
       "(0, 2)"
      ]
     },
     "execution_count": 14,
     "metadata": {},
     "output_type": "execute_result"
    }
   ],
   "source": [
    "df_sensor.shape"
   ]
  },
  {
   "cell_type": "code",
   "execution_count": 15,
   "id": "7ce19c31",
   "metadata": {},
   "outputs": [
    {
     "data": {
      "text/plain": [
       "<Axes: >"
      ]
     },
     "execution_count": 15,
     "metadata": {},
     "output_type": "execute_result"
    },
    {
     "data": {
      "image/png": "[encoded data removed]",
      "text/plain": [
       "<Figure size 640x480 with 1 Axes>"
      ]
     },
     "metadata": {},
     "output_type": "display_data"
    }
   ],
   "source": [
    "%matplotlib inline\n",
    "\n",
    "df_sensor['timestamp_diff'] = df_sensor['timestamp'].diff().fillna(0)\n",
    "df_sensor['timestamp_diff'][df_sensor['timestamp_diff'] < 1].iloc[1:].hist(bins=100)"
   ]
  },
  {
   "cell_type": "code",
   "execution_count": null,
   "id": "c4d429f8",
   "metadata": {},
   "outputs": [
    {
     "data": {
      "text/html": [
       "<div>\n",
       "<style scoped>\n",
       "    .dataframe tbody tr th:only-of-type {\n",
       "        vertical-align: middle;\n",
       "    }\n",
       "\n",
       "    .dataframe tbody tr th {\n",
       "        vertical-align: top;\n",
       "    }\n",
       "\n",
       "    .dataframe thead th {\n",
       "        text-align: right;\n",
       "    }\n",
       "</style>\n",
       "<table border=\"1\" class=\"dataframe\">\n",
       "  <thead>\n",
       "    <tr style=\"text-align: right;\">\n",
       "      <th></th>\n",
       "      <th>timestamp</th>\n",
       "      <th>value</th>\n",
       "      <th>timestamp_diff</th>\n",
       "    </tr>\n",
       "  </thead>\n",
       "  <tbody>\n",
       "  </tbody>\n",
       "</table>\n",
       "</div>"
      ],
      "text/plain": [
       "Empty DataFrame\n",
       "Columns: [timestamp, value, timestamp_diff]\n",
       "Index: []"
      ]
     },
     "execution_count": 78,
     "metadata": {},
     "output_type": "execute_result"
    },
    {
     "ename": "",
     "evalue": "",
     "output_type": "error",
     "traceback": [
      "\u001b[1;31mThe Kernel crashed while executing code in the current cell or a previous cell. \n",
      "\u001b[1;31mPlease review the code in the cell(s) to identify a possible cause of the failure. \n",
      "\u001b[1;31mClick <a href='https://aka.ms/vscodeJupyterKernelCrash'>here</a> for more info. \n",
      "\u001b[1;31mView Jupyter <a href='command:jupyter.viewOutput'>log</a> for further details."
     ]
    }
   ],
   "source": [
    "df_sensor[df_sensor['timestamp_diff'] < 0.1]"
   ]
  },
  {
   "cell_type": "code",
   "execution_count": null,
   "id": "0bbbc90a",
   "metadata": {},
   "outputs": [],
   "source": []
  }
 ],
 "metadata": {
  "kernelspec": {
   "display_name": "eamar",
   "language": "python",
   "name": "python3"
  },
  "language_info": {
   "codemirror_mode": {
    "name": "ipython",
    "version": 3
   },
   "file_extension": ".py",
   "mimetype": "text/x-python",
   "name": "python",
   "nbconvert_exporter": "python",
   "pygments_lexer": "ipython3",
   "version": "3.11.9"
  }
 },
 "nbformat": 4,
 "nbformat_minor": 5
}
