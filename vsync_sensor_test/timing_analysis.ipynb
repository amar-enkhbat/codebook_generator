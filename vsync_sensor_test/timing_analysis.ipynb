{
 "cells": [
  {
   "cell_type": "code",
   "execution_count": 1,
   "id": "ccc4fbff",
   "metadata": {},
   "outputs": [],
   "source": [
    "import numpy as np\n",
    "import pandas as pd\n",
    "import matplotlib.pyplot as plt\n",
    "import seaborn as sns\n",
    "import pyxdf\n",
    "\n",
    "%matplotlib inline"
   ]
  },
  {
   "cell_type": "markdown",
   "id": "b48d6e07",
   "metadata": {},
   "source": [
    "# Analyze screen flicker delay/jitter"
   ]
  },
  {
   "cell_type": "markdown",
   "id": "3df07323",
   "metadata": {},
   "source": [
    "## Load lsl recording"
   ]
  },
  {
   "cell_type": "code",
   "execution_count": 2,
   "id": "b8701480",
   "metadata": {},
   "outputs": [
    {
     "name": "stdout",
     "output_type": "stream",
     "text": [
      "['ScreenSensorStream']\n",
      "['SequenceStream']\n"
     ]
    }
   ],
   "source": [
    "fpath = 'results\\sub-P001\\ses-S001\\eeg\\sub-P001_ses-S001_task-Default_run-002_eeg.xdf'\n",
    "fpath = 'results\\sub-P001\\ses-S001\\eeg\\sub-P001_ses-S001_task-vsync_test_run-001_eeg.xdf'\n",
    "fpath = 'results\\sub-P001\\ses-S001\\eeg\\sub-P001_ses-S001_task-vsync_test_run-002_eeg.xdf'\n",
    "fpath = 'results\\sub-P001\\ses-S001\\eeg\\sub-P001_ses-S001_task-vsync_test_run-005_eeg.xdf'\n",
    "fpath = 'results\\sub-P001\\ses-S001\\eeg\\sub-P001_ses-S001_task-vsync_test_psychopy_run-001_eeg.xdf'\n",
    "fpath = 'C:/Users/Experiment/Documents/CurrentStudy/sub-P001/ses-S001/eeg/sub-P001_ses-S001_task-Default_run-001_eeg.xdf'\n",
    "# fpath = 'C:/Users/Experiment/Documents/CurrentStudy/sub-P001/ses-S001/eeg/sub-P001_ses-S001_task-Default_run-001_eeg_old1.xdf'\n",
    "# fpath = \"../../CurrentStudy/sub-P001/ses-S001/eeg/sub-P001_ses-S001_task-Default_run-001_eeg.xdf\"\n",
    "fpath = \"../../CurrentStudy/sub-P001/ses-S001/eeg/sub-P001_ses-S001_task-slow_erp_test_run-003_eeg.xdf\"\n",
    "fpath = \"../../CurrentStudy/sub-P001/ses-S001/eeg/sub-P001_ses-S001_task-pyglet_slow_erp_run-001_eeg.xdf\"\n",
    "fpath = \"../../CurrentStudy/sub-P001/ses-S001/eeg/sub-P001_ses-S001_task-pyglet_fast_erp_run-001_eeg.xdf\"\n",
    "fpath = \"../../CurrentStudy/sub-P001/ses-S001/eeg/sub-P001_ses-S001_task-new-monitor-test_run-001_eeg.xdf\"\n",
    "fpath = \"../../CurrentStudy/sub-P001/ses-S001/eeg/sub-P001_ses-S001_task-new_monitor_test_run-002_eeg.xdf\"\n",
    "fpath = \"../../CurrentStudy/sub-P001/ses-S001/eeg/sub-P001_ses-S001_task-screen_timing_accuracy_test_run-003_eeg.xdf\"\n",
    "fpath = 'C:/Users/Experiment/Documents/CurrentStudy/sub-P001/ses-S001/eeg/sub-P001_ses-S001_task-Default_run-001_eeg.xdf'\n",
    "fpath = \"../../CurrentStudy/sub-P001/ses-S001/eeg/sub-P001_ses-S001_task-screen_flip_timing_test-001_eeg.xdf\"\n",
    "fpath = \"C:/Users/Experiment/Documents/BCI/AmarE/CurrentStudy/sub-P001/ses-S001/eeg/sub-P001_ses-S001_task-screen_flip_timing_test_run-001_eeg.xdf\"\n",
    "fpath = \"C:/Users/Experiment/Documents/BCI/AmarE/CurrentStudy/sub-P001/ses-S001/eeg/sub-P001_ses-S001_task-7m_cable_test_run-001_eeg.xdf\"\n",
    "fpath = \"C:/Users/Experiment/Documents/BCI/AmarE/CurrentStudy/sub-P001/ses-S001/eeg/sub-P001_ses-S001_task-screen_flip_test_run-012_eeg.xdf\"\n",
    "streams, header = pyxdf.load_xdf(fpath)\n",
    "\n",
    "for stream in streams:\n",
    "    print(stream['info']['name'])"
   ]
  },
  {
   "cell_type": "code",
   "execution_count": 3,
   "id": "e19422cd",
   "metadata": {},
   "outputs": [],
   "source": [
    "# Load timestamps\n",
    "sequence_stream = [s for s in streams if s['info']['name'][0] == 'SequenceStream'][0]\n",
    "sensor_stream = [s for s in streams if s['info']['name'][0] == 'ScreenSensorStream'][0]\n",
    "# marker_stream = [s for s in streams if s['info']['name'][0] == 'MarkerStream'][0]"
   ]
  },
  {
   "cell_type": "code",
   "execution_count": 4,
   "id": "db38d5da",
   "metadata": {},
   "outputs": [
    {
     "data": {
      "text/plain": [
       "array([0, 1], dtype=int8)"
      ]
     },
     "execution_count": 4,
     "metadata": {},
     "output_type": "execute_result"
    }
   ],
   "source": [
    "np.unique(sequence_stream['time_series'])"
   ]
  },
  {
   "cell_type": "code",
   "execution_count": 5,
   "id": "88f493fd",
   "metadata": {},
   "outputs": [
    {
     "name": "stdout",
     "output_type": "stream",
     "text": [
      "LSL Timestamps: (176,)\n",
      "Sensor timestamps (1070,)\n"
     ]
    }
   ],
   "source": [
    "timestamps = sequence_stream['time_stamps']\n",
    "timeseries = sequence_stream['time_series']\n",
    "timestamps_sensor = sensor_stream['time_stamps']\n",
    "timeseries_sensor = sensor_stream['time_series']\n",
    "print('LSL Timestamps:', timestamps.shape)\n",
    "print('Sensor timestamps', timestamps_sensor.shape)\n"
   ]
  },
  {
   "cell_type": "code",
   "execution_count": 6,
   "id": "25957a24",
   "metadata": {},
   "outputs": [],
   "source": [
    "# timeseries = (np.ravel(timeseries[1:]) == '1').astype(int)\n",
    "# timestamps = timestamps[1:]"
   ]
  },
  {
   "cell_type": "code",
   "execution_count": 7,
   "id": "d88c3438",
   "metadata": {},
   "outputs": [
    {
     "name": "stdout",
     "output_type": "stream",
     "text": [
      "2941439.06941373\n",
      "2941462.9736630134\n",
      "LSL Timestamps shape: (176,)\n",
      "LSL Timeseries shape: (176, 8)\n",
      "Sensor timestamps shape: (454,)\n",
      "Sensor timeseries shape: (454, 1)\n"
     ]
    }
   ],
   "source": [
    "start_timestamp = timestamps[0]\n",
    "end_timestamp = timestamps[-1] + 0.02\n",
    "print(start_timestamp)\n",
    "print(end_timestamp)\n",
    "\n",
    "timeseries_sensor = timeseries_sensor[(timestamps_sensor >= start_timestamp) & (timestamps_sensor <= end_timestamp)]\n",
    "timestamps_sensor = timestamps_sensor[(timestamps_sensor >= start_timestamp) & (timestamps_sensor <= end_timestamp)]\n",
    "timestamps = timestamps - start_timestamp\n",
    "timestamps_sensor = timestamps_sensor - start_timestamp\n",
    "print('LSL Timestamps shape:', timestamps.shape)\n",
    "print('LSL Timeseries shape:', timeseries.shape)\n",
    "print('Sensor timestamps shape:', timestamps_sensor.shape)\n",
    "print('Sensor timeseries shape:', timeseries_sensor.shape)\n",
    "\n",
    "%matplotlib qt\n",
    "plt.scatter(timestamps, timeseries.sum(axis=1) // 8, label='expected', marker='o')\n",
    "plt.scatter(timestamps_sensor, timeseries_sensor, label='sensor', marker='x')\n",
    "plt.legend()\n",
    "plt.show()\n"
   ]
  },
  {
   "cell_type": "code",
   "execution_count": 8,
   "id": "d35163e3",
   "metadata": {},
   "outputs": [
    {
     "name": "stdout",
     "output_type": "stream",
     "text": [
      "LSL Timestamps: (176,)\n",
      "Sensor timestamps (170,)\n"
     ]
    }
   ],
   "source": [
    "# Remove sensor jitter\n",
    "def remove_jitter(timestamps, timeseries, tolerance=0.01):\n",
    "    filtered = [timestamps[0]]\n",
    "    filtered_timeseries = [timeseries[0]]\n",
    "    # print(filtered)\n",
    "    for timestamp, val in zip(timestamps[1:], timeseries[1:]):\n",
    "        if timestamp - filtered[-1] >= tolerance:\n",
    "            filtered.append(timestamp)\n",
    "            filtered_timeseries.append(val)\n",
    "    return np.array(filtered), np.array(filtered_timeseries)\n",
    "\n",
    "timestamps_sensor, timeseries_sensor = remove_jitter(timestamps_sensor, timeseries_sensor)\n",
    "\n",
    "print('LSL Timestamps:', timestamps.shape)\n",
    "print('Sensor timestamps', timestamps_sensor.shape)\n",
    "plt.plot(timestamps, timeseries, label='expected')\n",
    "plt.plot(timestamps_sensor, timeseries_sensor, label='sensor')\n",
    "plt.legend()\n",
    "plt.show()"
   ]
  },
  {
   "cell_type": "code",
   "execution_count": 11,
   "id": "0ebc0c95",
   "metadata": {},
   "outputs": [],
   "source": [
    "plt.plot(timestamps, timeseries.sum(axis=1) // 8, label='expected')\n",
    "plt.plot(timestamps_sensor, timeseries_sensor, label='sensor')\n",
    "plt.legend()\n",
    "plt.show()"
   ]
  },
  {
   "cell_type": "code",
   "execution_count": 10,
   "id": "4ed192ae",
   "metadata": {},
   "outputs": [
    {
     "ename": "ValueError",
     "evalue": "operands could not be broadcast together with shapes (170,) (176,) ",
     "output_type": "error",
     "traceback": [
      "\u001b[1;31m---------------------------------------------------------------------------\u001b[0m",
      "\u001b[1;31mValueError\u001b[0m                                Traceback (most recent call last)",
      "Cell \u001b[1;32mIn[10], line 1\u001b[0m\n\u001b[1;32m----> 1\u001b[0m diff \u001b[38;5;241m=\u001b[39m \u001b[43mtimestamps_sensor\u001b[49m\u001b[43m \u001b[49m\u001b[38;5;241;43m-\u001b[39;49m\u001b[43m \u001b[49m\u001b[43mtimestamps\u001b[49m\n\u001b[0;32m      2\u001b[0m \u001b[38;5;28mprint\u001b[39m(\u001b[38;5;124m'\u001b[39m\u001b[38;5;124mMean, Std:\u001b[39m\u001b[38;5;124m'\u001b[39m, diff\u001b[38;5;241m.\u001b[39mmean(), diff\u001b[38;5;241m.\u001b[39mstd())\n\u001b[0;32m      3\u001b[0m sns\u001b[38;5;241m.\u001b[39mboxplot(diff)\n",
      "\u001b[1;31mValueError\u001b[0m: operands could not be broadcast together with shapes (170,) (176,) "
     ]
    }
   ],
   "source": [
    "diff = timestamps_sensor - timestamps\n",
    "print('Mean, Std:', diff.mean(), diff.std())\n",
    "sns.boxplot(diff)\n",
    "plt.show()"
   ]
  },
  {
   "cell_type": "code",
   "execution_count": null,
   "id": "3fdab4aa",
   "metadata": {},
   "outputs": [],
   "source": [
    "# Filter sensor jitter\n",
    "df_timestamps = pd.DataFrame(timestamps, columns=['timestamp'])\n",
    "df_timestamps_sensor = pd.DataFrame(timestamps_sensor, columns=['timestamp_sensor'])\n",
    "\n",
    "df_merged = pd.merge_asof(df_timestamps, df_timestamps_sensor, left_on='timestamp', right_on='timestamp_sensor', direction='nearest', tolerance=0.1)\n",
    "print(df_merged.shape)\n",
    "print(df_merged.head())\n",
    "print('\\n# of NaNs:')\n",
    "print(df_merged.isna().sum())"
   ]
  },
  {
   "cell_type": "code",
   "execution_count": null,
   "id": "460a2794",
   "metadata": {},
   "outputs": [],
   "source": [
    "%matplotlib qt\n",
    "\n",
    "plt.scatter(df_merged['timestamp'], np.ones_like(df_merged['timestamp']), label='expected', marker='o')\n",
    "plt.scatter(df_merged['timestamp_sensor'], np.ones_like(df_merged['timestamp_sensor']), label='actual', marker='x')\n",
    "plt.legend()\n",
    "plt.show()"
   ]
  },
  {
   "cell_type": "code",
   "execution_count": null,
   "id": "90519d3f",
   "metadata": {},
   "outputs": [],
   "source": [
    "%matplotlib inline\n",
    "plt.clf()\n",
    "plt.cla()\n",
    "sns.boxplot(df_merged['timestamp_sensor'] - df_merged['timestamp'])\n",
    "plt.show()\n"
   ]
  },
  {
   "cell_type": "code",
   "execution_count": null,
   "id": "c0fbd4e4",
   "metadata": {},
   "outputs": [],
   "source": [
    "# Ignore first N seconds\n",
    "start_time = 5\n",
    "print('Shape before:', df_merged.shape)\n",
    "df_merged['timestamp'] = df_merged['timestamp'].where(df_merged['timestamp'] > start_time)\n",
    "df_merged['timestamp_sensor'] = df_merged['timestamp_sensor'].where(df_merged['timestamp_sensor'] > start_time)\n",
    "print('Shape after:', df_merged.shape)\n",
    "print('\\n# of NaNs:')\n",
    "print(df_merged.isna().sum())\n",
    "\n",
    "sns.boxplot(df_merged['timestamp_sensor'] - df_merged['timestamp'], showfliers=False)\n",
    "plt.show()\n",
    "print((df_merged['timestamp_sensor'] - df_merged['timestamp']).mean())"
   ]
  },
  {
   "cell_type": "code",
   "execution_count": null,
   "id": "45087f53",
   "metadata": {},
   "outputs": [],
   "source": []
  },
  {
   "cell_type": "code",
   "execution_count": null,
   "id": "55940816",
   "metadata": {},
   "outputs": [],
   "source": []
  }
 ],
 "metadata": {
  "kernelspec": {
   "display_name": "eamar38",
   "language": "python",
   "name": "python3"
  },
  "language_info": {
   "codemirror_mode": {
    "name": "ipython",
    "version": 3
   },
   "file_extension": ".py",
   "mimetype": "text/x-python",
   "name": "python",
   "nbconvert_exporter": "python",
   "pygments_lexer": "ipython3",
   "version": "3.8.20"
  }
 },
 "nbformat": 4,
 "nbformat_minor": 5
}
