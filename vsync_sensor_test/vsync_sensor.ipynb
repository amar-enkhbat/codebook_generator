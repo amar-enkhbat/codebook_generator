{
 "cells": [
  {
   "cell_type": "code",
   "execution_count": 69,
   "metadata": {},
   "outputs": [],
   "source": [
    "import pandas as pd\n",
    "import seaborn as sns\n",
    "\n",
    "sns.set_style(\"whitegrid\")\n",
    "sns.set_context(\"notebook\")"
   ]
  },
  {
   "cell_type": "code",
   "execution_count": 70,
   "metadata": {},
   "outputs": [
    {
     "name": "stdout",
     "output_type": "stream",
     "text": [
      "(956, 3)\n"
     ]
    },
    {
     "data": {
      "text/html": [
       "<div>\n",
       "<style scoped>\n",
       "    .dataframe tbody tr th:only-of-type {\n",
       "        vertical-align: middle;\n",
       "    }\n",
       "\n",
       "    .dataframe tbody tr th {\n",
       "        vertical-align: top;\n",
       "    }\n",
       "\n",
       "    .dataframe thead th {\n",
       "        text-align: right;\n",
       "    }\n",
       "</style>\n",
       "<table border=\"1\" class=\"dataframe\">\n",
       "  <thead>\n",
       "    <tr style=\"text-align: right;\">\n",
       "      <th></th>\n",
       "      <th>timestamp</th>\n",
       "      <th>value</th>\n",
       "      <th>timestamp_diff</th>\n",
       "    </tr>\n",
       "  </thead>\n",
       "  <tbody>\n",
       "    <tr>\n",
       "      <th>43</th>\n",
       "      <td>2645.010223</td>\n",
       "      <td>a</td>\n",
       "      <td>0.100768</td>\n",
       "    </tr>\n",
       "    <tr>\n",
       "      <th>44</th>\n",
       "      <td>2645.160821</td>\n",
       "      <td>A</td>\n",
       "      <td>0.150599</td>\n",
       "    </tr>\n",
       "    <tr>\n",
       "      <th>45</th>\n",
       "      <td>2645.261541</td>\n",
       "      <td>a</td>\n",
       "      <td>0.100720</td>\n",
       "    </tr>\n",
       "    <tr>\n",
       "      <th>46</th>\n",
       "      <td>2645.412136</td>\n",
       "      <td>A</td>\n",
       "      <td>0.150595</td>\n",
       "    </tr>\n",
       "    <tr>\n",
       "      <th>47</th>\n",
       "      <td>2645.512867</td>\n",
       "      <td>a</td>\n",
       "      <td>0.100731</td>\n",
       "    </tr>\n",
       "  </tbody>\n",
       "</table>\n",
       "</div>"
      ],
      "text/plain": [
       "      timestamp value  timestamp_diff\n",
       "43  2645.010223     a        0.100768\n",
       "44  2645.160821     A        0.150599\n",
       "45  2645.261541     a        0.100720\n",
       "46  2645.412136     A        0.150595\n",
       "47  2645.512867     a        0.100731"
      ]
     },
     "execution_count": 70,
     "metadata": {},
     "output_type": "execute_result"
    }
   ],
   "source": [
    "\n",
    "df_lsl = pd.read_csv('./lsl_results.csv')\n",
    "df_lsl['timestamp'] = df_lsl['timestamp'] + df_lsl['offset']\n",
    "df_lsl.drop(columns=['offset'], inplace=True)\n",
    "df_lsl['timestamp_diff'] = df_lsl['timestamp'].diff().fillna(0)\n",
    "df_lsl = df_lsl[df_lsl['timestamp'] > 2645]\n",
    "# Drop last row\n",
    "df_lsl = df_lsl[:-1]\n",
    "print(df_lsl.shape)\n",
    "df_lsl.head()\n",
    "\n"
   ]
  },
  {
   "cell_type": "code",
   "execution_count": 71,
   "metadata": {},
   "outputs": [
    {
     "name": "stdout",
     "output_type": "stream",
     "text": [
      "(956, 3)\n"
     ]
    },
    {
     "data": {
      "text/html": [
       "<div>\n",
       "<style scoped>\n",
       "    .dataframe tbody tr th:only-of-type {\n",
       "        vertical-align: middle;\n",
       "    }\n",
       "\n",
       "    .dataframe tbody tr th {\n",
       "        vertical-align: top;\n",
       "    }\n",
       "\n",
       "    .dataframe thead th {\n",
       "        text-align: right;\n",
       "    }\n",
       "</style>\n",
       "<table border=\"1\" class=\"dataframe\">\n",
       "  <thead>\n",
       "    <tr style=\"text-align: right;\">\n",
       "      <th></th>\n",
       "      <th>timestamp</th>\n",
       "      <th>value</th>\n",
       "      <th>timestamp_diff</th>\n",
       "    </tr>\n",
       "  </thead>\n",
       "  <tbody>\n",
       "    <tr>\n",
       "      <th>45</th>\n",
       "      <td>2645.065219</td>\n",
       "      <td>a</td>\n",
       "      <td>0.099994</td>\n",
       "    </tr>\n",
       "    <tr>\n",
       "      <th>46</th>\n",
       "      <td>2645.215253</td>\n",
       "      <td>A</td>\n",
       "      <td>0.150034</td>\n",
       "    </tr>\n",
       "    <tr>\n",
       "      <th>47</th>\n",
       "      <td>2645.315267</td>\n",
       "      <td>a</td>\n",
       "      <td>0.100013</td>\n",
       "    </tr>\n",
       "    <tr>\n",
       "      <th>48</th>\n",
       "      <td>2645.465150</td>\n",
       "      <td>A</td>\n",
       "      <td>0.149883</td>\n",
       "    </tr>\n",
       "    <tr>\n",
       "      <th>49</th>\n",
       "      <td>2645.565334</td>\n",
       "      <td>a</td>\n",
       "      <td>0.100184</td>\n",
       "    </tr>\n",
       "  </tbody>\n",
       "</table>\n",
       "</div>"
      ],
      "text/plain": [
       "      timestamp value  timestamp_diff\n",
       "45  2645.065219     a        0.099994\n",
       "46  2645.215253     A        0.150034\n",
       "47  2645.315267     a        0.100013\n",
       "48  2645.465150     A        0.149883\n",
       "49  2645.565334     a        0.100184"
      ]
     },
     "execution_count": 71,
     "metadata": {},
     "output_type": "execute_result"
    }
   ],
   "source": [
    "df_sensor = pd.read_csv('./sensor_results.csv')\n",
    "df_sensor = df_sensor[df_sensor['value'].str.lower() == 'a']\n",
    "df_sensor['timestamp_diff'] = df_sensor['timestamp'].diff().fillna(0)\n",
    "df_sensor = df_sensor[df_sensor['timestamp'] > 2645]\n",
    "df_sensor = df_sensor[df_sensor['timestamp_diff'] > 0.05]\n",
    "print(df_sensor.shape)\n",
    "df_sensor.head()\n"
   ]
  },
  {
   "cell_type": "code",
   "execution_count": 72,
   "metadata": {},
   "outputs": [
    {
     "data": {
      "text/plain": [
       "<Axes: >"
      ]
     },
     "execution_count": 72,
     "metadata": {},
     "output_type": "execute_result"
    },
    {
     "data": {
      "image/png": "[encoded data removed]",
      "text/plain": [
       "<Figure size 640x480 with 1 Axes>"
      ]
     },
     "metadata": {},
     "output_type": "display_data"
    }
   ],
   "source": [
    "df_sensor['timestamp_diff'].hist(bins=100)"
   ]
  },
  {
   "cell_type": "code",
   "execution_count": 73,
   "metadata": {},
   "outputs": [
    {
     "data": {
      "text/html": [
       "<div>\n",
       "<style scoped>\n",
       "    .dataframe tbody tr th:only-of-type {\n",
       "        vertical-align: middle;\n",
       "    }\n",
       "\n",
       "    .dataframe tbody tr th {\n",
       "        vertical-align: top;\n",
       "    }\n",
       "\n",
       "    .dataframe thead th {\n",
       "        text-align: right;\n",
       "    }\n",
       "</style>\n",
       "<table border=\"1\" class=\"dataframe\">\n",
       "  <thead>\n",
       "    <tr style=\"text-align: right;\">\n",
       "      <th></th>\n",
       "      <th>timestamp</th>\n",
       "      <th>value</th>\n",
       "      <th>timestamp_diff</th>\n",
       "    </tr>\n",
       "  </thead>\n",
       "  <tbody>\n",
       "    <tr>\n",
       "      <th>1002</th>\n",
       "      <td>2764.582846</td>\n",
       "      <td>A</td>\n",
       "      <td>0.150071</td>\n",
       "    </tr>\n",
       "    <tr>\n",
       "      <th>1003</th>\n",
       "      <td>2764.699423</td>\n",
       "      <td>a</td>\n",
       "      <td>0.116577</td>\n",
       "    </tr>\n",
       "    <tr>\n",
       "      <th>1004</th>\n",
       "      <td>2764.849657</td>\n",
       "      <td>A</td>\n",
       "      <td>0.150234</td>\n",
       "    </tr>\n",
       "    <tr>\n",
       "      <th>1005</th>\n",
       "      <td>2764.949554</td>\n",
       "      <td>a</td>\n",
       "      <td>0.099897</td>\n",
       "    </tr>\n",
       "    <tr>\n",
       "      <th>1006</th>\n",
       "      <td>2765.099603</td>\n",
       "      <td>A</td>\n",
       "      <td>0.150050</td>\n",
       "    </tr>\n",
       "  </tbody>\n",
       "</table>\n",
       "</div>"
      ],
      "text/plain": [
       "        timestamp value  timestamp_diff\n",
       "1002  2764.582846     A        0.150071\n",
       "1003  2764.699423     a        0.116577\n",
       "1004  2764.849657     A        0.150234\n",
       "1005  2764.949554     a        0.099897\n",
       "1006  2765.099603     A        0.150050"
      ]
     },
     "execution_count": 73,
     "metadata": {},
     "output_type": "execute_result"
    }
   ],
   "source": [
    "df_sensor.tail()"
   ]
  },
  {
   "cell_type": "code",
   "execution_count": 74,
   "metadata": {},
   "outputs": [
    {
     "data": {
      "text/html": [
       "<div>\n",
       "<style scoped>\n",
       "    .dataframe tbody tr th:only-of-type {\n",
       "        vertical-align: middle;\n",
       "    }\n",
       "\n",
       "    .dataframe tbody tr th {\n",
       "        vertical-align: top;\n",
       "    }\n",
       "\n",
       "    .dataframe thead th {\n",
       "        text-align: right;\n",
       "    }\n",
       "</style>\n",
       "<table border=\"1\" class=\"dataframe\">\n",
       "  <thead>\n",
       "    <tr style=\"text-align: right;\">\n",
       "      <th></th>\n",
       "      <th>timestamp</th>\n",
       "      <th>value</th>\n",
       "      <th>timestamp_diff</th>\n",
       "    </tr>\n",
       "  </thead>\n",
       "  <tbody>\n",
       "    <tr>\n",
       "      <th>994</th>\n",
       "      <td>2764.541573</td>\n",
       "      <td>A</td>\n",
       "      <td>0.150609</td>\n",
       "    </tr>\n",
       "    <tr>\n",
       "      <th>995</th>\n",
       "      <td>2764.642283</td>\n",
       "      <td>a</td>\n",
       "      <td>0.100709</td>\n",
       "    </tr>\n",
       "    <tr>\n",
       "      <th>996</th>\n",
       "      <td>2764.792894</td>\n",
       "      <td>A</td>\n",
       "      <td>0.150611</td>\n",
       "    </tr>\n",
       "    <tr>\n",
       "      <th>997</th>\n",
       "      <td>2764.893588</td>\n",
       "      <td>a</td>\n",
       "      <td>0.100694</td>\n",
       "    </tr>\n",
       "    <tr>\n",
       "      <th>998</th>\n",
       "      <td>2765.044185</td>\n",
       "      <td>A</td>\n",
       "      <td>0.150598</td>\n",
       "    </tr>\n",
       "  </tbody>\n",
       "</table>\n",
       "</div>"
      ],
      "text/plain": [
       "       timestamp value  timestamp_diff\n",
       "994  2764.541573     A        0.150609\n",
       "995  2764.642283     a        0.100709\n",
       "996  2764.792894     A        0.150611\n",
       "997  2764.893588     a        0.100694\n",
       "998  2765.044185     A        0.150598"
      ]
     },
     "execution_count": 74,
     "metadata": {},
     "output_type": "execute_result"
    }
   ],
   "source": [
    "df_lsl.tail()"
   ]
  },
  {
   "cell_type": "code",
   "execution_count": 75,
   "metadata": {},
   "outputs": [
    {
     "data": {
      "text/plain": [
       "<Axes: ylabel='Count'>"
      ]
     },
     "execution_count": 75,
     "metadata": {},
     "output_type": "execute_result"
    },
    {
     "data": {
      "image/png": "[encoded data removed]",
      "text/plain": [
       "<Figure size 640x480 with 1 Axes>"
      ]
     },
     "metadata": {},
     "output_type": "display_data"
    }
   ],
   "source": [
    "delays = df_lsl['timestamp_diff'].to_numpy() - df_sensor['timestamp_diff'].to_numpy() \n",
    "sns.histplot(delays, bins=100)"
   ]
  },
  {
   "cell_type": "code",
   "execution_count": null,
   "metadata": {},
   "outputs": [
    {
     "ename": "",
     "evalue": "",
     "output_type": "error",
     "traceback": [
      "\u001b[1;31mRunning cells with 'eamar (Python 3.11.9)' requires the ipykernel package.\n",
      "\u001b[1;31m<a href='command:jupyter.createPythonEnvAndSelectController'>Create a Python Environment</a> with the required packages.\n",
      "\u001b[1;31mOr install 'ipykernel' using the command: 'c:/Users/Public/Envs/eamar/Scripts/python.exe -m pip install ipykernel -U --force-reinstall'"
     ]
    }
   ],
   "source": [
    "import pyxdf\n",
    "\n"
   ]
  },
  {
   "cell_type": "code",
   "execution_count": null,
   "metadata": {},
   "outputs": [],
   "source": []
  },
  {
   "cell_type": "code",
   "execution_count": null,
   "metadata": {},
   "outputs": [],
   "source": []
  },
  {
   "cell_type": "code",
   "execution_count": null,
   "metadata": {},
   "outputs": [],
   "source": []
  },
  {
   "cell_type": "code",
   "execution_count": null,
   "metadata": {},
   "outputs": [],
   "source": []
  },
  {
   "cell_type": "code",
   "execution_count": null,
   "metadata": {},
   "outputs": [],
   "source": []
  },
  {
   "cell_type": "code",
   "execution_count": null,
   "metadata": {},
   "outputs": [],
   "source": []
  },
  {
   "cell_type": "code",
   "execution_count": null,
   "metadata": {},
   "outputs": [],
   "source": []
  },
  {
   "cell_type": "code",
   "execution_count": null,
   "metadata": {},
   "outputs": [],
   "source": []
  },
  {
   "cell_type": "code",
   "execution_count": 45,
   "metadata": {},
   "outputs": [
    {
     "ename": "IndexError",
     "evalue": "list index out of range",
     "output_type": "error",
     "traceback": [
      "\u001b[31m---------------------------------------------------------------------------\u001b[39m",
      "\u001b[31mIndexError\u001b[39m                                Traceback (most recent call last)",
      "\u001b[36mCell\u001b[39m\u001b[36m \u001b[39m\u001b[32mIn[45]\u001b[39m\u001b[32m, line 3\u001b[39m\n\u001b[32m      1\u001b[39m \u001b[38;5;28;01mimport\u001b[39;00m\u001b[38;5;250m \u001b[39m\u001b[34;01mpylsl\u001b[39;00m\n\u001b[32m----> \u001b[39m\u001b[32m3\u001b[39m sequence_stream = \u001b[43mpylsl\u001b[49m\u001b[43m.\u001b[49m\u001b[43mresolve_byprop\u001b[49m\u001b[43m(\u001b[49m\u001b[33;43m'\u001b[39;49m\u001b[33;43mname\u001b[39;49m\u001b[33;43m'\u001b[39;49m\u001b[43m,\u001b[49m\u001b[43m \u001b[49m\u001b[33;43m'\u001b[39;49m\u001b[33;43mSequenceStream\u001b[39;49m\u001b[33;43m'\u001b[39;49m\u001b[43m,\u001b[49m\u001b[43m \u001b[49m\u001b[43mtimeout\u001b[49m\u001b[43m=\u001b[49m\u001b[32;43m0.0\u001b[39;49m\u001b[43m)\u001b[49m\u001b[43m[\u001b[49m\u001b[32;43m0\u001b[39;49m\u001b[43m]\u001b[49m\n\u001b[32m      4\u001b[39m sequence_stream = pylsl.StreamInlet(sequence_stream)\n\u001b[32m      6\u001b[39m sequence_stream.pull_sample(timeout=\u001b[32m0.0\u001b[39m)\n",
      "\u001b[31mIndexError\u001b[39m: list index out of range"
     ]
    }
   ],
   "source": [
    "import pylsl\n",
    "\n",
    "sequence_stream = pylsl.resolve_byprop('name', 'SequenceStream', timeout=0.0)[0]\n",
    "sequence_stream = pylsl.StreamInlet(sequence_stream)\n",
    "\n",
    "sequence_stream.pull_sample(timeout=0.0)"
   ]
  },
  {
   "cell_type": "code",
   "execution_count": 8,
   "metadata": {},
   "outputs": [
    {
     "data": {
      "text/plain": [
       "([1, 1, 1, 1, 1, 1, 1, 1], 13091.1935125)"
      ]
     },
     "execution_count": 8,
     "metadata": {},
     "output_type": "execute_result"
    }
   ],
   "source": [
    "sequence_stream.pull_sample(timeout=0.0)"
   ]
  },
  {
   "cell_type": "code",
   "execution_count": 46,
   "metadata": {},
   "outputs": [],
   "source": [
    "import numpy as np\n",
    "import pandas as pd\n",
    "import matplotlib.pyplot as plt\n",
    "import seaborn as sns\n",
    "import pyxdf"
   ]
  },
  {
   "cell_type": "code",
   "execution_count": 47,
   "metadata": {},
   "outputs": [
    {
     "name": "stdout",
     "output_type": "stream",
     "text": [
      "['SequenceStream']\n",
      "['ScreenSequenceStream']\n",
      "['ScreenSensorStream']\n"
     ]
    }
   ],
   "source": [
    "fpath = '.\\sub-P001_ses-S001_task-vsyncsensor_test_run-001_eeg.xdf'\n",
    "fpath = \"D:\\Documents\\CurrentStudy\\sub-P001\\ses-S001\\eeg\\sub-P001_ses-S001_task-Default_run-001_eeg.xdf\"\n",
    "fpath = \"D:\\Documents\\CurrentStudy\\sub-P001\\ses-S001\\eeg\\sub-P001_ses-S001_task-Default_run-001_eeg_old7.xdf\"\n",
    "streams, header = pyxdf.load_xdf(fpath)\n",
    "\n",
    "for stream in streams:\n",
    "    print(stream['info']['name'])"
   ]
  },
  {
   "cell_type": "code",
   "execution_count": 49,
   "metadata": {},
   "outputs": [
    {
     "data": {
      "text/plain": [
       "[{'info': defaultdict(list,\n",
       "              {'name': ['SequenceStream'],\n",
       "               'type': ['Marker'],\n",
       "               'channel_count': ['8'],\n",
       "               'channel_format': ['int8'],\n",
       "               'source_id': ['-3777632379647347893'],\n",
       "               'nominal_srate': ['0.000000000000000'],\n",
       "               'version': ['1.100000000000000'],\n",
       "               'created_at': ['7862.463293400000'],\n",
       "               'uid': ['2d3a100d-06ca-41d9-b70b-b880f08385d7'],\n",
       "               'session_id': ['default'],\n",
       "               'hostname': ['2010dcc-eeg-040'],\n",
       "               'v4address': [None],\n",
       "               'v4data_port': ['16572'],\n",
       "               'v4service_port': ['16572'],\n",
       "               'v6address': [None],\n",
       "               'v6data_port': ['16572'],\n",
       "               'v6service_port': ['16572'],\n",
       "               'desc': [None],\n",
       "               'stream_id': 1,\n",
       "               'effective_srate': 0,\n",
       "               'segments': []}),\n",
       "  'footer': {'info': defaultdict(list,\n",
       "               {'first_timestamp': ['7898.2929271'],\n",
       "                'last_timestamp': ['7921.792146'],\n",
       "                'sample_count': ['1386'],\n",
       "                'clock_offsets': [defaultdict(list,\n",
       "                             {'offset': [defaultdict(list,\n",
       "                                           {'time': ['7903.944941600001'],\n",
       "                                            'value': ['-1.010000050882809e-05']}),\n",
       "                               defaultdict(list,\n",
       "                                           {'time': ['7908.945716849999'],\n",
       "                                            'value': ['-9.650000265537528e-06']}),\n",
       "                               defaultdict(list,\n",
       "                                           {'time': ['7913.9463206'],\n",
       "                                            'value': ['-6.499999926745659e-06']}),\n",
       "                               defaultdict(list,\n",
       "                                           {'time': ['7918.94680705'],\n",
       "                                            'value': ['-8.949999937613029e-06']}),\n",
       "                               defaultdict(list,\n",
       "                                           {'time': ['7923.94741255'],\n",
       "                                            'value': ['-1.149999661720358e-06']})]})]})},\n",
       "  'time_series': array([[0, 0, 0, ..., 0, 0, 0],\n",
       "         [1, 1, 1, ..., 1, 1, 1],\n",
       "         [0, 0, 0, ..., 0, 0, 0],\n",
       "         ...,\n",
       "         [0, 0, 0, ..., 0, 0, 0],\n",
       "         [1, 1, 1, ..., 1, 1, 1],\n",
       "         [0, 0, 0, ..., 0, 0, 0]], shape=(1387, 8), dtype=int8),\n",
       "  'time_stamps': array([7898.29291401, 7898.30986631, 7898.32681102, ..., 7921.75821684,\n",
       "         7921.77519054, 7921.79214165], shape=(1387,)),\n",
       "  'clock_times': [7903.944941600001,\n",
       "   7908.945716849999,\n",
       "   7913.9463206,\n",
       "   7918.94680705,\n",
       "   7923.94741255],\n",
       "  'clock_values': [-1.0100000508828089e-05,\n",
       "   -9.650000265537528e-06,\n",
       "   -6.499999926745659e-06,\n",
       "   -8.949999937613029e-06,\n",
       "   -1.1499996617203578e-06]},\n",
       " {'info': defaultdict(list,\n",
       "              {'name': ['ScreenSequenceStream'],\n",
       "               'type': ['Marker'],\n",
       "               'channel_count': ['8'],\n",
       "               'channel_format': ['int8'],\n",
       "               'source_id': ['3287349531434582642'],\n",
       "               'nominal_srate': ['0.000000000000000'],\n",
       "               'version': ['1.100000000000000'],\n",
       "               'created_at': ['7878.223500800000'],\n",
       "               'uid': ['3a95b1be-59c8-46d2-be7a-d54fbecafacd'],\n",
       "               'session_id': ['default'],\n",
       "               'hostname': ['2010dcc-eeg-040'],\n",
       "               'v4address': [None],\n",
       "               'v4data_port': ['16573'],\n",
       "               'v4service_port': ['16573'],\n",
       "               'v6address': [None],\n",
       "               'v6data_port': ['16573'],\n",
       "               'v6service_port': ['16573'],\n",
       "               'desc': [None],\n",
       "               'stream_id': 2,\n",
       "               'effective_srate': 0,\n",
       "               'segments': []}),\n",
       "  'footer': {'info': defaultdict(list,\n",
       "               {'first_timestamp': ['7899.6550629'],\n",
       "                'last_timestamp': ['7916.957556'],\n",
       "                'sample_count': ['1000'],\n",
       "                'clock_offsets': [defaultdict(list,\n",
       "                             {'offset': [defaultdict(list,\n",
       "                                           {'time': ['7903.95290815'],\n",
       "                                            'value': ['2.150000000256114e-06']}),\n",
       "                               defaultdict(list,\n",
       "                                           {'time': ['7908.9536531'],\n",
       "                                            'value': ['1.559999964229064e-05']}),\n",
       "                               defaultdict(list,\n",
       "                                           {'time': ['7913.95429305'],\n",
       "                                            'value': ['-7.500002539018169e-07']}),\n",
       "                               defaultdict(list,\n",
       "                                           {'time': ['7918.954763400001'],\n",
       "                                            'value': ['1.299999439652311e-06']}),\n",
       "                               defaultdict(list,\n",
       "                                           {'time': ['7923.9553987'],\n",
       "                                            'value': ['1.299999439652311e-06']})]})]})},\n",
       "  'time_series': array([[0, 0, 0, ..., 0, 0, 0],\n",
       "         [0, 0, 0, ..., 0, 0, 0],\n",
       "         [1, 1, 1, ..., 1, 1, 1],\n",
       "         ...,\n",
       "         [1, 1, 1, ..., 1, 1, 1],\n",
       "         [0, 0, 0, ..., 0, 0, 0],\n",
       "         [1, 1, 1, ..., 1, 1, 1]], shape=(1001, 8), dtype=int8),\n",
       "  'time_stamps': array([7899.6550714 , 7899.67162169, 7900.32239328, ..., 7916.92422537,\n",
       "         7916.94087986, 7916.95755896], shape=(1001,)),\n",
       "  'clock_times': [7903.95290815,\n",
       "   7908.9536531,\n",
       "   7913.95429305,\n",
       "   7918.954763400001,\n",
       "   7923.9553987],\n",
       "  'clock_values': [2.1500000002561137e-06,\n",
       "   1.559999964229064e-05,\n",
       "   -7.500002539018169e-07,\n",
       "   1.2999994396523107e-06,\n",
       "   1.2999994396523107e-06]},\n",
       " {'info': defaultdict(list,\n",
       "              {'name': ['ScreenSensorStream'],\n",
       "               'type': ['Marker'],\n",
       "               'channel_count': ['1'],\n",
       "               'channel_format': ['int8'],\n",
       "               'source_id': ['9136189435843377141'],\n",
       "               'nominal_srate': ['0.000000000000000'],\n",
       "               'version': ['1.100000000000000'],\n",
       "               'created_at': ['7887.052423200000'],\n",
       "               'uid': ['500e74d5-c13b-4c00-a6e0-6da6e2e4eed3'],\n",
       "               'session_id': ['default'],\n",
       "               'hostname': ['2010dcc-eeg-040'],\n",
       "               'v4address': [None],\n",
       "               'v4data_port': ['16574'],\n",
       "               'v4service_port': ['16574'],\n",
       "               'v6address': [None],\n",
       "               'v6data_port': ['16574'],\n",
       "               'v6service_port': ['16574'],\n",
       "               'desc': [None],\n",
       "               'stream_id': 3,\n",
       "               'effective_srate': 0,\n",
       "               'segments': []}),\n",
       "  'footer': {'info': defaultdict(list,\n",
       "               {'first_timestamp': ['7900.3448818'],\n",
       "                'last_timestamp': ['7916.9714476'],\n",
       "                'sample_count': ['1001'],\n",
       "                'clock_offsets': [defaultdict(list,\n",
       "                             {'offset': [defaultdict(list,\n",
       "                                           {'time': ['7903.948937450001'],\n",
       "                                            'value': ['-3.500003913359251e-07']}),\n",
       "                               defaultdict(list,\n",
       "                                           {'time': ['7908.949695400001'],\n",
       "                                            'value': ['-2.100000529026147e-06']}),\n",
       "                               defaultdict(list,\n",
       "                                           {'time': ['7913.9502991'],\n",
       "                                            'value': ['1.410000004398171e-05']}),\n",
       "                               defaultdict(list,\n",
       "                                           {'time': ['7918.9507911'],\n",
       "                                            'value': ['-1.390000034007244e-05']}),\n",
       "                               defaultdict(list,\n",
       "                                           {'time': ['7923.9514131'],\n",
       "                                            'value': ['-1.500000053056283e-06']})]})]})},\n",
       "  'time_series': array([[1],\n",
       "         [0],\n",
       "         [1],\n",
       "         ...,\n",
       "         [0],\n",
       "         [1],\n",
       "         [0]], shape=(1002, 1), dtype=int8),\n",
       "  'time_stamps': array([7900.34488489, 7900.36064998, 7900.38658157, ..., 7916.93827521,\n",
       "         7916.9556981 , 7916.971446  ], shape=(1002,)),\n",
       "  'clock_times': [7903.948937450001,\n",
       "   7908.949695400001,\n",
       "   7913.9502991,\n",
       "   7918.9507911,\n",
       "   7923.9514131],\n",
       "  'clock_values': [-3.500003913359251e-07,\n",
       "   -2.100000529026147e-06,\n",
       "   1.4100000043981709e-05,\n",
       "   -1.3900000340072438e-05,\n",
       "   -1.500000053056283e-06]}]"
      ]
     },
     "execution_count": 49,
     "metadata": {},
     "output_type": "execute_result"
    }
   ],
   "source": [
    "streams"
   ]
  },
  {
   "cell_type": "code",
   "execution_count": 21,
   "metadata": {},
   "outputs": [],
   "source": [
    "# Get sequence stream by name\n",
    "sequence_stream = [s for s in streams if s['info']['name'][0] == 'SequenceStream'][0]\n",
    "screen_sequence_stream = [s for s in streams if s['info']['name'][0] == 'ScreenSequenceStream'][0]\n",
    "sensor_stream = [s for s in streams if s['info']['name'][0] == 'ScreenSensorStream'][0]"
   ]
  },
  {
   "cell_type": "markdown",
   "metadata": {},
   "source": [
    "## Sequence jitter"
   ]
  },
  {
   "cell_type": "code",
   "execution_count": 22,
   "metadata": {},
   "outputs": [],
   "source": [
    "timestamps = sequence_stream['time_stamps']\n",
    "timestamps_diff = np.diff(timestamps)"
   ]
  },
  {
   "cell_type": "code",
   "execution_count": 23,
   "metadata": {},
   "outputs": [
    {
     "data": {
      "text/plain": [
       "array([0.01695231, 0.01694471, 0.01698461, ..., 0.01693911, 0.01697371,\n",
       "       0.01695111], shape=(1386,))"
      ]
     },
     "execution_count": 23,
     "metadata": {},
     "output_type": "execute_result"
    }
   ],
   "source": [
    "timestamps_diff"
   ]
  },
  {
   "cell_type": "code",
   "execution_count": 26,
   "metadata": {},
   "outputs": [
    {
     "name": "stdout",
     "output_type": "stream",
     "text": [
      "(1386,)\n"
     ]
    }
   ],
   "source": [
    "on_timestamps_diff = timestamps_diff[timestamps_diff < 0.13] - 1 / 60\n",
    "off_timestamps_diff = timestamps_diff[timestamps_diff > 0.13] - 1 / 60\n",
    "delays = np.concatenate((on_timestamps_diff, off_timestamps_diff))\n",
    "print(delays.shape)"
   ]
  },
  {
   "cell_type": "code",
   "execution_count": 31,
   "metadata": {},
   "outputs": [
    {
     "data": {
      "text/plain": [
       "0.008333333333333333"
      ]
     },
     "execution_count": 31,
     "metadata": {},
     "output_type": "execute_result"
    }
   ],
   "source": [
    "1 / 120"
   ]
  },
  {
   "cell_type": "code",
   "execution_count": 36,
   "metadata": {},
   "outputs": [
    {
     "data": {
      "text/plain": [
       "(0.25, 0.35)"
      ]
     },
     "execution_count": 36,
     "metadata": {},
     "output_type": "execute_result"
    },
    {
     "data": {
      "image/png": "[encoded data removed]",
      "text/plain": [
       "<Figure size 640x480 with 1 Axes>"
      ]
     },
     "metadata": {},
     "output_type": "display_data"
    }
   ],
   "source": [
    "sns.histplot(delays * 1000, bins=100, kde=True)\n",
    "plt.xlim(0.25, 0.35)"
   ]
  },
  {
   "cell_type": "code",
   "execution_count": 35,
   "metadata": {},
   "outputs": [
    {
     "data": {
      "text/plain": [
       "33.333333333333336"
      ]
     },
     "execution_count": 35,
     "metadata": {},
     "output_type": "execute_result"
    }
   ],
   "source": [
    "# 0.03 ms to hz\n",
    "1 / 0.03"
   ]
  },
  {
   "cell_type": "markdown",
   "metadata": {},
   "source": [
    "# Sensor jitter"
   ]
  },
  {
   "cell_type": "code",
   "execution_count": 37,
   "metadata": {},
   "outputs": [],
   "source": [
    "timestamps = sensor_stream['time_stamps']\n",
    "timeseries = sensor_stream['time_series']\n",
    "timestamps_diff = np.diff(timestamps)"
   ]
  },
  {
   "cell_type": "code",
   "execution_count": 38,
   "metadata": {},
   "outputs": [
    {
     "data": {
      "text/plain": [
       "array([0.0157651 , 0.02593159, 0.0156931 , ..., 0.0157457 , 0.0174229 ,\n",
       "       0.0157479 ], shape=(1001,))"
      ]
     },
     "execution_count": 38,
     "metadata": {},
     "output_type": "execute_result"
    }
   ],
   "source": [
    "timestamps_diff"
   ]
  },
  {
   "cell_type": "code",
   "execution_count": 39,
   "metadata": {},
   "outputs": [
    {
     "data": {
      "text/plain": [
       "(array([  4,   0,   0,   0,   0,  48, 948,   0,   0,   1]),\n",
       " array([0.000213  , 0.00278486, 0.00535672, 0.00792858, 0.01050044,\n",
       "        0.0130723 , 0.01564416, 0.01821601, 0.02078787, 0.02335973,\n",
       "        0.02593159]))"
      ]
     },
     "execution_count": 39,
     "metadata": {},
     "output_type": "execute_result"
    }
   ],
   "source": [
    "np.histogram(timestamps_diff)"
   ]
  },
  {
   "cell_type": "code",
   "execution_count": 40,
   "metadata": {},
   "outputs": [],
   "source": [
    "# Remove first 10 and last 10 samples\n",
    "timestamps_diff = timestamps_diff[10:-10]"
   ]
  },
  {
   "cell_type": "code",
   "execution_count": 42,
   "metadata": {},
   "outputs": [
    {
     "data": {
      "text/plain": [
       "<Axes: ylabel='Count'>"
      ]
     },
     "execution_count": 42,
     "metadata": {},
     "output_type": "execute_result"
    },
    {
     "data": {
      "image/png": "[encoded data removed]",
      "text/plain": [
       "<Figure size 640x480 with 1 Axes>"
      ]
     },
     "metadata": {},
     "output_type": "display_data"
    }
   ],
   "source": [
    "sns.histplot(timestamps_diff * 1000, bins=100, kde=True)"
   ]
  },
  {
   "cell_type": "code",
   "execution_count": 44,
   "metadata": {},
   "outputs": [
    {
     "data": {
      "text/plain": [
       "8.333333333333334"
      ]
     },
     "execution_count": 44,
     "metadata": {},
     "output_type": "execute_result"
    }
   ],
   "source": [
    "1 / 120 * 1000"
   ]
  },
  {
   "cell_type": "code",
   "execution_count": 1,
   "metadata": {},
   "outputs": [
    {
     "name": "stdout",
     "output_type": "stream",
     "text": [
      "maximum samples: 64\n"
     ]
    }
   ],
   "source": [
    "import pyglet\n",
    "from ctypes import c_int, byref\n",
    "\n",
    "max_samples = c_int()\n",
    "pyglet.gl.glGetIntegerv(pyglet.gl.GL_MAX_SAMPLES, byref(max_samples))\n",
    "\n",
    "print(f\"maximum samples: {max_samples.value}\")"
   ]
  },
  {
   "cell_type": "code",
   "execution_count": null,
   "metadata": {},
   "outputs": [],
   "source": []
  }
 ],
 "metadata": {
  "kernelspec": {
   "display_name": "eamar",
   "language": "python",
   "name": "python3"
  },
  "language_info": {
   "codemirror_mode": {
    "name": "ipython",
    "version": 3
   },
   "file_extension": ".py",
   "mimetype": "text/x-python",
   "name": "python",
   "nbconvert_exporter": "python",
   "pygments_lexer": "ipython3",
   "version": "3.11.0b3"
  }
 },
 "nbformat": 4,
 "nbformat_minor": 2
}
