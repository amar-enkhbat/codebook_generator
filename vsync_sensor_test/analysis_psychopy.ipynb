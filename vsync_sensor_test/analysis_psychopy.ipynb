{
 "cells": [
  {
   "cell_type": "code",
   "execution_count": 1,
   "id": "ccc4fbff",
   "metadata": {},
   "outputs": [],
   "source": [
    "import numpy as np\n",
    "import pandas as pd\n",
    "import matplotlib.pyplot as plt\n",
    "import seaborn as sns\n",
    "import pyxdf\n",
    "\n",
    "%matplotlib inline"
   ]
  },
  {
   "cell_type": "markdown",
   "id": "b48d6e07",
   "metadata": {},
   "source": [
    "# Analyze screen flicker delay/jitter"
   ]
  },
  {
   "cell_type": "markdown",
   "id": "3df07323",
   "metadata": {},
   "source": [
    "## Load lsl recording"
   ]
  },
  {
   "cell_type": "code",
   "execution_count": 9,
   "id": "b8701480",
   "metadata": {},
   "outputs": [
    {
     "name": "stdout",
     "output_type": "stream",
     "text": [
      "['ScreenSensorStream']\n",
      "['ScreenSequenceStream']\n"
     ]
    }
   ],
   "source": [
    "fpath = 'results\\sub-P001\\ses-S001\\eeg\\sub-P001_ses-S001_task-Default_run-002_eeg.xdf'\n",
    "fpath = 'results\\sub-P001\\ses-S001\\eeg\\sub-P001_ses-S001_task-vsync_test_run-001_eeg.xdf'\n",
    "fpath = 'results\\sub-P001\\ses-S001\\eeg\\sub-P001_ses-S001_task-vsync_test_run-002_eeg.xdf'\n",
    "fpath = 'results\\sub-P001\\ses-S001\\eeg\\sub-P001_ses-S001_task-vsync_test_run-005_eeg.xdf'\n",
    "fpath = 'results\\sub-P001\\ses-S001\\eeg\\sub-P001_ses-S001_task-vsync_test_psychopy_run-001_eeg.xdf'\n",
    "fpath = 'C:/Users/Experiment/Documents/CurrentStudy/sub-P001/ses-S001/eeg/sub-P001_ses-S001_task-Default_run-001_eeg.xdf'\n",
    "# fpath = 'C:/Users/Experiment/Documents/CurrentStudy/sub-P001/ses-S001/eeg/sub-P001_ses-S001_task-Default_run-001_eeg_old1.xdf'\n",
    "# fpath = \"../../CurrentStudy/sub-P001/ses-S001/eeg/sub-P001_ses-S001_task-Default_run-001_eeg.xdf\"\n",
    "fpath = \"../../CurrentStudy/sub-P001/ses-S001/eeg/sub-P001_ses-S001_task-slow_erp_test_run-003_eeg.xdf\"\n",
    "\n",
    "streams, header = pyxdf.load_xdf(fpath, dejitter_timestamps=False)\n",
    "\n",
    "for stream in streams:\n",
    "    print(stream['info']['name'])"
   ]
  },
  {
   "cell_type": "code",
   "execution_count": 10,
   "id": "88f493fd",
   "metadata": {},
   "outputs": [
    {
     "name": "stdout",
     "output_type": "stream",
     "text": [
      "LSL Timestamps: (20002,)\n",
      "Sensor timestamps (157316,)\n",
      "LSL Timestamps: (20000,)\n",
      "Sensor timestamps (100418,)\n"
     ]
    }
   ],
   "source": [
    "# Load timestamps\n",
    "sequence_stream = [s for s in streams if s['info']['name'][0] == 'ScreenSequenceStream'][0]\n",
    "sensor_stream = [s for s in streams if s['info']['name'][0] == 'ScreenSensorStream'][0]\n",
    "timestamps = sequence_stream['time_stamps']\n",
    "timestamps_sensor = sensor_stream['time_stamps']\n",
    "print('LSL Timestamps:', timestamps.shape)\n",
    "print('Sensor timestamps', timestamps_sensor.shape)\n",
    "\n",
    "# Start from start marker\n",
    "timeseries = np.array(sequence_stream['time_series']).ravel()\n",
    "start_timestamp = timestamps[timeseries == 'Start'][0]\n",
    "end_timestamp = timestamps[timeseries == 'end'][0]\n",
    "\n",
    "timestamps = timestamps[timestamps > start_timestamp]\n",
    "timestamps = timestamps[timestamps < end_timestamp]\n",
    "timestamps_sensor = timestamps_sensor[timestamps_sensor > start_timestamp]\n",
    "timestamps_sensor = timestamps_sensor[timestamps_sensor < end_timestamp]\n",
    "timestamps = timestamps - start_timestamp\n",
    "timestamps_sensor = timestamps_sensor - start_timestamp\n",
    "print('LSL Timestamps:', timestamps.shape)\n",
    "print('Sensor timestamps', timestamps_sensor.shape)\n",
    "\n",
    "%matplotlib qt\n",
    "plt.scatter(timestamps, np.ones_like(timestamps), label='expected', marker='o')\n",
    "plt.scatter(timestamps_sensor, np.ones_like(timestamps_sensor), label='actual', marker='x')\n",
    "plt.legend()\n",
    "plt.show()\n"
   ]
  },
  {
   "cell_type": "code",
   "execution_count": 11,
   "id": "d35163e3",
   "metadata": {},
   "outputs": [
    {
     "name": "stdout",
     "output_type": "stream",
     "text": [
      "LSL Timestamps: (20000,)\n",
      "Sensor timestamps (20849,)\n"
     ]
    }
   ],
   "source": [
    "# Remove sensor jitter\n",
    "def remove_jitter(timestamps, tolerance=0.001):\n",
    "    filtered = [timestamps[0]]\n",
    "    # print(filtered)\n",
    "    for timestamp in timestamps[1:]:\n",
    "        if timestamp - filtered[-1] >= tolerance:\n",
    "            filtered.append(timestamp)\n",
    "    return np.array(filtered)\n",
    "\n",
    "timestamps_sensor_filtered = remove_jitter(timestamps_sensor)\n",
    "\n",
    "print('LSL Timestamps:', timestamps.shape)\n",
    "print('Sensor timestamps', timestamps_sensor_filtered.shape)\n",
    "\n",
    "plt.scatter(timestamps, np.ones_like(timestamps), label='expected', marker='o')\n",
    "plt.scatter(timestamps_sensor_filtered, np.ones_like(timestamps_sensor_filtered), label='actual', marker='x')\n",
    "plt.legend()\n",
    "plt.show()"
   ]
  },
  {
   "cell_type": "code",
   "execution_count": 12,
   "id": "3fdab4aa",
   "metadata": {},
   "outputs": [
    {
     "name": "stdout",
     "output_type": "stream",
     "text": [
      "(20000, 2)\n",
      "   timestamp  timestamp_sensor\n",
      "0   1.005612          1.005813\n",
      "1   1.144380          1.146812\n",
      "2   1.277659          1.281171\n",
      "3   1.377696          1.380265\n",
      "4   1.510973          1.514651\n",
      "\n",
      "# of NaNs:\n",
      "timestamp           0\n",
      "timestamp_sensor    0\n",
      "dtype: int64\n"
     ]
    }
   ],
   "source": [
    "# Filter sensor jitter\n",
    "df_timestamps = pd.DataFrame(timestamps, columns=['timestamp'])\n",
    "df_timestamps_sensor = pd.DataFrame(timestamps_sensor_filtered, columns=['timestamp_sensor'])\n",
    "\n",
    "df_merged = pd.merge_asof(df_timestamps, df_timestamps_sensor, left_on='timestamp', right_on='timestamp_sensor', direction='nearest', tolerance=0.1)\n",
    "print(df_merged.shape)\n",
    "print(df_merged.head())\n",
    "print('\\n# of NaNs:')\n",
    "print(df_merged.isna().sum())"
   ]
  },
  {
   "cell_type": "code",
   "execution_count": 13,
   "id": "460a2794",
   "metadata": {},
   "outputs": [],
   "source": [
    "%matplotlib qt\n",
    "\n",
    "plt.scatter(df_merged['timestamp'], np.ones_like(df_merged['timestamp']), label='expected', marker='o')\n",
    "plt.scatter(df_merged['timestamp_sensor'], np.ones_like(df_merged['timestamp_sensor']), label='actual', marker='x')\n",
    "plt.legend()\n",
    "plt.show()"
   ]
  },
  {
   "cell_type": "code",
   "execution_count": 14,
   "id": "90519d3f",
   "metadata": {},
   "outputs": [
    {
     "data": {
      "image/png": "[encoded data removed]",
      "text/plain": [
       "<Figure size 640x480 with 1 Axes>"
      ]
     },
     "metadata": {},
     "output_type": "display_data"
    }
   ],
   "source": [
    "%matplotlib inline\n",
    "sns.boxplot(df_merged['timestamp_sensor'] - df_merged['timestamp'])\n",
    "plt.show()\n"
   ]
  },
  {
   "cell_type": "code",
   "execution_count": 15,
   "id": "c0fbd4e4",
   "metadata": {},
   "outputs": [
    {
     "name": "stdout",
     "output_type": "stream",
     "text": [
      "\n",
      "# of NaNs:\n",
      "timestamp           32\n",
      "timestamp_sensor    32\n",
      "dtype: int64\n"
     ]
    },
    {
     "data": {
      "image/png": "[encoded data removed]",
      "text/plain": [
       "<Figure size 640x480 with 1 Axes>"
      ]
     },
     "metadata": {},
     "output_type": "display_data"
    }
   ],
   "source": [
    "# Ignore first N seconds\n",
    "start_time = 5\n",
    "df_merged['timestamp'] = df_merged['timestamp'].where(df_merged['timestamp'] > start_time)\n",
    "df_merged['timestamp_sensor'] = df_merged['timestamp_sensor'].where(df_merged['timestamp_sensor'] > start_time)\n",
    "print('\\n# of NaNs:')\n",
    "print(df_merged.isna().sum())\n",
    "\n",
    "sns.boxplot(df_merged['timestamp_sensor'] - df_merged['timestamp'])\n",
    "plt.show()"
   ]
  },
  {
   "cell_type": "code",
   "execution_count": null,
   "id": "810adc20",
   "metadata": {},
   "outputs": [],
   "source": []
  }
 ],
 "metadata": {
  "kernelspec": {
   "display_name": "eamar38",
   "language": "python",
   "name": "python3"
  },
  "language_info": {
   "codemirror_mode": {
    "name": "ipython",
    "version": 3
   },
   "file_extension": ".py",
   "mimetype": "text/x-python",
   "name": "python",
   "nbconvert_exporter": "python",
   "pygments_lexer": "ipython3",
   "version": "3.8.20"
  }
 },
 "nbformat": 4,
 "nbformat_minor": 5
}
