{
 "cells": [
  {
   "cell_type": "code",
   "execution_count": 9,
   "id": "ccc4fbff",
   "metadata": {},
   "outputs": [],
   "source": [
    "import numpy as np\n",
    "import pandas as pd\n",
    "import matplotlib.pyplot as plt\n",
    "import seaborn as sns\n",
    "import pyxdf\n",
    "\n",
    "%matplotlib inline"
   ]
  },
  {
   "cell_type": "code",
   "execution_count": 10,
   "id": "b8701480",
   "metadata": {},
   "outputs": [
    {
     "name": "stdout",
     "output_type": "stream",
     "text": [
      "['ScreenSensorStream']\n",
      "['ScreenSequenceStream']\n"
     ]
    }
   ],
   "source": [
    "fpath = 'results\\sub-P001\\ses-S001\\eeg\\sub-P001_ses-S001_task-Default_run-002_eeg.xdf'\n",
    "fpath = 'results\\sub-P001\\ses-S001\\eeg\\sub-P001_ses-S001_task-vsync_test_run-001_eeg.xdf'\n",
    "fpath = 'results\\sub-P001\\ses-S001\\eeg\\sub-P001_ses-S001_task-vsync_test_run-002_eeg.xdf'\n",
    "fpath = 'results\\sub-P001\\ses-S001\\eeg\\sub-P001_ses-S001_task-vsync_test_run-005_eeg.xdf'\n",
    "fpath = 'results\\sub-P001\\ses-S001\\eeg\\sub-P001_ses-S001_task-vsync_test_psychopy_run-001_eeg.xdf'\n",
    "fpath = 'C:/Users/Experiment/Documents/CurrentStudy/sub-P001/ses-S001/eeg/sub-P001_ses-S001_task-Default_run-001_eeg.xdf'\n",
    "# fpath = 'C:/Users/Experiment/Documents/CurrentStudy/sub-P001/ses-S001/eeg/sub-P001_ses-S001_task-Default_run-001_eeg_old1.xdf'\n",
    "streams, header = pyxdf.load_xdf(fpath, dejitter_timestamps=False)\n",
    "\n",
    "for stream in streams:\n",
    "    print(stream['info']['name'])"
   ]
  },
  {
   "cell_type": "code",
   "execution_count": 11,
   "id": "5a8d10e8",
   "metadata": {},
   "outputs": [],
   "source": [
    "sequence_stream = [s for s in streams if s['info']['name'][0] == 'ScreenSequenceStream'][0]\n",
    "sensor_stream = [s for s in streams if s['info']['name'][0] == 'ScreenSensorStream'][0]"
   ]
  },
  {
   "cell_type": "code",
   "execution_count": 12,
   "id": "88f493fd",
   "metadata": {},
   "outputs": [
    {
     "data": {
      "text/plain": [
       "(989,)"
      ]
     },
     "execution_count": 12,
     "metadata": {},
     "output_type": "execute_result"
    }
   ],
   "source": [
    "sequence_stream['time_stamps'].shape"
   ]
  },
  {
   "cell_type": "code",
   "execution_count": 4,
   "id": "50c6dad7",
   "metadata": {},
   "outputs": [
    {
     "name": "stdout",
     "output_type": "stream",
     "text": [
      "(989,)\n",
      "(2568,)\n",
      "(690,)\n",
      "(1776,)\n"
     ]
    }
   ],
   "source": [
    "%matplotlib qt\n",
    "timestamps = sequence_stream['time_stamps']\n",
    "timeseries = sequence_stream['time_series']\n",
    "timeseries = np.array(timeseries) == ['up']\n",
    "timeseries = timeseries.ravel()\n",
    "\n",
    "timestamps_sensor = sensor_stream['time_stamps']\n",
    "timeseries_sensor = sensor_stream['time_series']\n",
    "\n",
    "print(timestamps.shape)\n",
    "print(timestamps_sensor.shape)\n",
    "start_time = 10 # Ignore fist 10 seconds\n",
    "timestamps = timestamps[timestamps > timestamps[0] + 5]\n",
    "timestamps_sensor = timestamps_sensor[timestamps_sensor > timestamps_sensor[0] + 5]\n",
    "print(timestamps.shape)\n",
    "print(timestamps_sensor.shape)\n",
    "\n",
    "plt.scatter(timestamps, np.ones_like(timestamps), label='expected', marker='o')\n",
    "plt.scatter(timestamps_sensor, np.ones_like(timestamps_sensor), label='actual', marker='x')\n",
    "plt.legend()\n",
    "plt.show()"
   ]
  },
  {
   "cell_type": "code",
   "execution_count": 27,
   "id": "0b62d692",
   "metadata": {},
   "outputs": [],
   "source": [
    "# print(timestamps.shape)\n",
    "# print(timestamps_sensor.shape)\n",
    "# timestamps = timestamps[timestamps > 2090]\n",
    "# timestamps_sensor = timestamps_sensor[timestamps_sensor > 2090]\n",
    "# print(timestamps.shape)\n",
    "# print(timestamps_sensor.shape)"
   ]
  },
  {
   "cell_type": "code",
   "execution_count": 28,
   "id": "90519d3f",
   "metadata": {},
   "outputs": [
    {
     "name": "stdout",
     "output_type": "stream",
     "text": [
      "Original length: 1776\n",
      "Filtered length: 704\n"
     ]
    }
   ],
   "source": [
    "min_diff = 0.002\n",
    "filtered = [timestamps_sensor[0]]\n",
    "\n",
    "# Iterate and filter out timestamps_sensor that are too close\n",
    "for ts in timestamps_sensor[1:]:\n",
    "    if ts - filtered[-1] >= min_diff:\n",
    "        filtered.append(ts)\n",
    "\n",
    "# Convert back to NumPy array\n",
    "merged_timestamps = np.array(filtered)\n",
    "\n",
    "print(\"Original length:\", len(timestamps_sensor))\n",
    "print(\"Filtered length:\", len(merged_timestamps))\n"
   ]
  },
  {
   "cell_type": "code",
   "execution_count": 31,
   "id": "cfe1815e",
   "metadata": {},
   "outputs": [],
   "source": [
    "plt.scatter(timestamps, np.ones_like(timestamps), label='expected', marker='o')\n",
    "plt.scatter(merged_timestamps, np.ones_like(merged_timestamps), label='actual', marker='x')\n",
    "plt.legend()\n",
    "plt.show()"
   ]
  },
  {
   "cell_type": "code",
   "execution_count": 32,
   "id": "d3f120a3",
   "metadata": {},
   "outputs": [],
   "source": [
    "merged_timestamps = merged_timestamps[merged_timestamps > timestamps[0]]\n",
    "merged_timestamps = merged_timestamps[merged_timestamps < timestamps[-1]]\n",
    "timestamps = timestamps[:-1]"
   ]
  },
  {
   "cell_type": "code",
   "execution_count": 33,
   "id": "4391c34f",
   "metadata": {},
   "outputs": [
    {
     "name": "stdout",
     "output_type": "stream",
     "text": [
      "(689,)\n",
      "(689,)\n"
     ]
    }
   ],
   "source": [
    "print(merged_timestamps.shape)\n",
    "print(timestamps.shape)"
   ]
  },
  {
   "cell_type": "code",
   "execution_count": 35,
   "id": "e71dc5a4",
   "metadata": {},
   "outputs": [
    {
     "data": {
      "text/plain": [
       "<Axes: >"
      ]
     },
     "execution_count": 35,
     "metadata": {},
     "output_type": "execute_result"
    }
   ],
   "source": [
    "sns.boxplot((merged_timestamps - timestamps))"
   ]
  },
  {
   "cell_type": "code",
   "execution_count": null,
   "id": "09fa3db7",
   "metadata": {},
   "outputs": [],
   "source": []
  }
 ],
 "metadata": {
  "kernelspec": {
   "display_name": "eamar38",
   "language": "python",
   "name": "python3"
  },
  "language_info": {
   "codemirror_mode": {
    "name": "ipython",
    "version": 3
   },
   "file_extension": ".py",
   "mimetype": "text/x-python",
   "name": "python",
   "nbconvert_exporter": "python",
   "pygments_lexer": "ipython3",
   "version": "3.8.20"
  }
 },
 "nbformat": 4,
 "nbformat_minor": 5
}
