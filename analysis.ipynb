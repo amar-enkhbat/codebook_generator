{
 "cells": [
  {
   "cell_type": "code",
   "execution_count": 21,
   "id": "ccc4fbff",
   "metadata": {},
   "outputs": [],
   "source": [
    "import numpy as np\n",
    "import pandas as pd\n",
    "import matplotlib.pyplot as plt\n",
    "import seaborn as sns\n",
    "import pyxdf\n",
    "\n",
    "%matplotlib inline"
   ]
  },
  {
   "cell_type": "markdown",
   "id": "b48d6e07",
   "metadata": {},
   "source": [
    "# Analyze screen flicker delay/jitter"
   ]
  },
  {
   "cell_type": "markdown",
   "id": "3df07323",
   "metadata": {},
   "source": [
    "## Load lsl recording"
   ]
  },
  {
   "cell_type": "code",
   "execution_count": 22,
   "id": "b8701480",
   "metadata": {},
   "outputs": [
    {
     "name": "stdout",
     "output_type": "stream",
     "text": [
      "['ScreenSensorStream']\n",
      "['MarkerStream']\n"
     ]
    }
   ],
   "source": [
    "fpath = 'results\\sub-P001\\ses-S001\\eeg\\sub-P001_ses-S001_task-Default_run-002_eeg.xdf'\n",
    "fpath = 'results\\sub-P001\\ses-S001\\eeg\\sub-P001_ses-S001_task-vsync_test_run-001_eeg.xdf'\n",
    "fpath = 'results\\sub-P001\\ses-S001\\eeg\\sub-P001_ses-S001_task-vsync_test_run-002_eeg.xdf'\n",
    "fpath = 'results\\sub-P001\\ses-S001\\eeg\\sub-P001_ses-S001_task-vsync_test_run-005_eeg.xdf'\n",
    "fpath = 'results\\sub-P001\\ses-S001\\eeg\\sub-P001_ses-S001_task-vsync_test_psychopy_run-001_eeg.xdf'\n",
    "fpath = 'C:/Users/Experiment/Documents/CurrentStudy/sub-P001/ses-S001/eeg/sub-P001_ses-S001_task-Default_run-001_eeg.xdf'\n",
    "# fpath = 'C:/Users/Experiment/Documents/CurrentStudy/sub-P001/ses-S001/eeg/sub-P001_ses-S001_task-Default_run-001_eeg_old1.xdf'\n",
    "# fpath = \"../../CurrentStudy/sub-P001/ses-S001/eeg/sub-P001_ses-S001_task-Default_run-001_eeg.xdf\"\n",
    "fpath = \"../../CurrentStudy/sub-P001/ses-S001/eeg/sub-P001_ses-S001_task-slow_erp_test_run-003_eeg.xdf\"\n",
    "fpath = \"../../CurrentStudy/sub-P001/ses-S001/eeg/sub-P001_ses-S001_task-pyglet_slow_erp_run-001_eeg.xdf\"\n",
    "fpath = \"../../CurrentStudy/sub-P001/ses-S001/eeg/sub-P001_ses-S001_task-pyglet_fast_erp_run-001_eeg.xdf\"\n",
    "fpath = \"../../CurrentStudy/sub-P001/ses-S001/eeg/sub-P001_ses-S001_task-new-monitor-test_run-001_eeg.xdf\"\n",
    "fpath = \"../../CurrentStudy/sub-P001/ses-S001/eeg/sub-P001_ses-S001_task-new_monitor_test_run-002_eeg.xdf\"\n",
    "\n",
    "fpath = 'D:/Documents/CurrentStudy/sub-P001/ses-S001/eeg/sub-P001_ses-S001_task-test_run_run-001_eeg.xdf'\n",
    "fpath = \"../CurrentStudy/sub-P001/ses-S001/eeg/sub-P001_ses-S001_task-screen_flip_test_run-001_eeg.xdf\"\n",
    "# \"D:\\Documents\\CurrentStudy\\sub-P001\\ses-S001\\eeg\\sub-P001_ses-S001_task-test_run_run-001_eeg.xdf\"\n",
    "streams, header = pyxdf.load_xdf(fpath)\n",
    "\n",
    "for stream in streams:\n",
    "    print(stream['info']['name'])"
   ]
  },
  {
   "cell_type": "code",
   "execution_count": 23,
   "id": "9f0caf47",
   "metadata": {},
   "outputs": [],
   "source": [
    "marker_stream = [s for s in streams if s['info']['name'][0] == 'MarkerStream'][0]\n",
    "sensor_stream = [s for s in streams if s['info']['name'][0] == 'ScreenSensorStream'][0]\n",
    "\n",
    "marker_timestamp = marker_stream['time_stamps']\n",
    "marker_timeseries = marker_stream['time_series'].flatten()\n",
    "sensor_timestamp = sensor_stream['time_stamps']\n",
    "sensor_timeseries = sensor_stream['time_series'].flatten()"
   ]
  },
  {
   "cell_type": "markdown",
   "id": "07d7a45a",
   "metadata": {},
   "source": [
    "## Check if marker is the same as codebook"
   ]
  },
  {
   "cell_type": "code",
   "execution_count": 24,
   "id": "01b87971",
   "metadata": {},
   "outputs": [
    {
     "data": {
      "text/plain": [
       "True"
      ]
     },
     "execution_count": 24,
     "metadata": {},
     "output_type": "execute_result"
    }
   ],
   "source": [
    "# CHeck if marker time_series is the same as codebook\n",
    "from utils import load_codebooks_block_3\n",
    "codebook = load_codebooks_block_3()[0, :, 0]\n",
    "\n",
    "trial_start_idx = np.where(marker_timeseries == 200)[0][0]\n",
    "trial_end_idx = np.where(marker_timeseries == 210)[0][0]\n",
    "marker_timeseries = marker_timeseries[trial_start_idx+1:trial_end_idx]\n",
    "marker_timestamp = marker_timestamp[trial_start_idx+1:trial_end_idx]\n",
    "marker_timeseries = (marker_timeseries == 110).astype(int)\n",
    "\n",
    "np.array_equal(codebook, marker_timeseries)\n"
   ]
  },
  {
   "cell_type": "markdown",
   "id": "0b0e3271",
   "metadata": {},
   "source": [
    "## Clip start and end time"
   ]
  },
  {
   "cell_type": "code",
   "execution_count": 25,
   "id": "030fdb12",
   "metadata": {},
   "outputs": [
    {
     "name": "stdout",
     "output_type": "stream",
     "text": [
      "(384,) (384,)\n"
     ]
    }
   ],
   "source": [
    "sensor_timeseries = sensor_timeseries[(sensor_timestamp > marker_timestamp[0]) & (sensor_timestamp < marker_timestamp[-1] + 0.025)]\n",
    "sensor_timestamp = sensor_timestamp[(sensor_timestamp > marker_timestamp[0]) & (sensor_timestamp < marker_timestamp[-1] + 0.025)]\n",
    "print(sensor_timeseries.shape, sensor_timestamp.shape)\n",
    "\n",
    "%matplotlib qt\n",
    "plt.plot(marker_timestamp, marker_timeseries, marker='o', label='marker')\n",
    "plt.plot(sensor_timestamp, sensor_timeseries, marker='x', label='sensor')\n",
    "plt.legend()\n",
    "plt.show()\n"
   ]
  },
  {
   "cell_type": "markdown",
   "id": "e046dd15",
   "metadata": {},
   "source": [
    "## remove consecutive equal values from markers"
   ]
  },
  {
   "cell_type": "code",
   "execution_count": 26,
   "id": "1da5546d",
   "metadata": {},
   "outputs": [],
   "source": [
    "new_idc = [0]\n",
    "for i in range(1, len(marker_timeseries)):\n",
    "    if marker_timeseries[i] != marker_timeseries[i - 1]:\n",
    "        new_idc.append(i)\n",
    "\n",
    "marker_timeseries = marker_timeseries[new_idc]\n",
    "marker_timestamp = marker_timestamp[new_idc]\n",
    "\n",
    "%matplotlib qt\n",
    "plt.plot(marker_timestamp, marker_timeseries, marker='o', label='marker')\n",
    "plt.plot(sensor_timestamp, sensor_timeseries, marker='x', label='sensor')\n",
    "plt.legend()\n",
    "plt.show()\n"
   ]
  },
  {
   "cell_type": "markdown",
   "id": "54b640bd",
   "metadata": {},
   "source": [
    "## Filter sensor jitter"
   ]
  },
  {
   "cell_type": "code",
   "execution_count": 27,
   "id": "3fdab4aa",
   "metadata": {},
   "outputs": [
    {
     "name": "stdout",
     "output_type": "stream",
     "text": [
      "(384, 4)\n",
      "     timestamp  value  timestamp_sensor  value_sensor\n",
      "0  2569.238316      0               NaN           NaN\n",
      "1  2569.254976      1       2569.258787           1.0\n",
      "2  2569.271667      0       2569.274272           0.0\n",
      "3  2569.288311      1       2569.291481           1.0\n",
      "4  2569.304977      0       2569.307432           0.0\n",
      "\n",
      "# of NaNs:\n",
      "timestamp           0\n",
      "value               0\n",
      "timestamp_sensor    1\n",
      "value_sensor        1\n",
      "dtype: int64\n"
     ]
    }
   ],
   "source": [
    "df_marker = pd.DataFrame(\n",
    "    {\n",
    "        'timestamp': marker_timestamp,\n",
    "        'value': marker_timeseries\n",
    "    }\n",
    ")\n",
    "df_sensor = pd.DataFrame(\n",
    "    {\n",
    "        'timestamp_sensor': sensor_timestamp,\n",
    "        'value_sensor': sensor_timeseries\n",
    "    }\n",
    ")\n",
    "\n",
    "df_merged = pd.merge_asof(df_marker, df_sensor, left_on='timestamp', right_on='timestamp_sensor', direction='nearest', tolerance=0.01)\n",
    "print(df_merged.shape)\n",
    "print(df_merged.head())\n",
    "print('\\n# of NaNs:')\n",
    "print(df_merged.isna().sum())"
   ]
  },
  {
   "cell_type": "code",
   "execution_count": 28,
   "id": "264c20f5",
   "metadata": {},
   "outputs": [],
   "source": [
    "%matplotlib qt\n",
    "plt.plot(marker_timestamp, marker_timeseries, marker='o', label='marker')\n",
    "plt.plot(sensor_timestamp, sensor_timeseries, marker='x', label='sensor')\n",
    "plt.plot(df_merged['timestamp_sensor'], df_merged['value_sensor'], marker='x', label='sensor_filtered')\n",
    "plt.legend()\n",
    "plt.show()"
   ]
  },
  {
   "cell_type": "code",
   "execution_count": 29,
   "id": "90519d3f",
   "metadata": {},
   "outputs": [
    {
     "name": "stdout",
     "output_type": "stream",
     "text": [
      "Mean delay: 0.003120244713199748\n",
      "Delay std: 0.000397815913228756\n"
     ]
    },
    {
     "data": {
      "image/png": "[encoded data removed]",
      "text/plain": [
       "<Figure size 640x480 with 1 Axes>"
      ]
     },
     "metadata": {},
     "output_type": "display_data"
    }
   ],
   "source": [
    "%matplotlib inline\n",
    "diff = df_merged['timestamp_sensor'] - df_merged['timestamp']\n",
    "print('Mean delay:', diff.mean())\n",
    "print('Delay std:', diff.std())\n",
    "plt.clf()\n",
    "plt.cla()\n",
    "sns.boxplot(df_merged['timestamp_sensor'] - df_merged['timestamp'])\n",
    "plt.show()"
   ]
  },
  {
   "cell_type": "code",
   "execution_count": 30,
   "id": "1c68d84c",
   "metadata": {},
   "outputs": [],
   "source": [
    "# Mean delay: 0.003139559622785386\n",
    "# Delay std: 0.0004232748245344668"
   ]
  },
  {
   "cell_type": "code",
   "execution_count": 20,
   "id": "90398a0b",
   "metadata": {},
   "outputs": [],
   "source": [
    "%matplotlib qt\n",
    "plt.scatter(df_merged['timestamp'], np.zeros_like(df_merged['timestamp']), marker='o', label='sensor_filtered')\n",
    "plt.scatter(df_merged['timestamp_sensor'], np.zeros_like(df_merged['timestamp_sensor']), marker='x', label='sensor_filtered')\n",
    "plt.show()"
   ]
  },
  {
   "cell_type": "code",
   "execution_count": null,
   "id": "8bf0d456",
   "metadata": {},
   "outputs": [],
   "source": []
  }
 ],
 "metadata": {
  "kernelspec": {
   "display_name": "eamar38",
   "language": "python",
   "name": "python3"
  },
  "language_info": {
   "codemirror_mode": {
    "name": "ipython",
    "version": 3
   },
   "file_extension": ".py",
   "mimetype": "text/x-python",
   "name": "python",
   "nbconvert_exporter": "python",
   "pygments_lexer": "ipython3",
   "version": "3.8.20"
  }
 },
 "nbformat": 4,
 "nbformat_minor": 5
}
