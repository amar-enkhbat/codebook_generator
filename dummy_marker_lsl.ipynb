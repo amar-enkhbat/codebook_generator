{
 "cells": [
  {
   "cell_type": "code",
   "execution_count": 1,
   "metadata": {},
   "outputs": [
    {
     "name": "stderr",
     "output_type": "stream",
     "text": [
      "2025-03-08 22:54:00.643 (   0.002s) [          458F7B]      netinterfaces.cpp:91    INFO| netif 'lo0' (status: 1, multicast: 32768, broadcast: 0)\n",
      "2025-03-08 22:54:00.643 (   0.002s) [          458F7B]      netinterfaces.cpp:91    INFO| netif 'lo0' (status: 1, multicast: 32768, broadcast: 0)\n",
      "2025-03-08 22:54:00.643 (   0.002s) [          458F7B]      netinterfaces.cpp:102   INFO| \tIPv4 addr: 7f000001\n",
      "2025-03-08 22:54:00.643 (   0.002s) [          458F7B]      netinterfaces.cpp:91    INFO| netif 'lo0' (status: 1, multicast: 32768, broadcast: 0)\n",
      "2025-03-08 22:54:00.643 (   0.002s) [          458F7B]      netinterfaces.cpp:105   INFO| \tIPv6 addr: ::1\n",
      "2025-03-08 22:54:00.643 (   0.002s) [          458F7B]      netinterfaces.cpp:91    INFO| netif 'lo0' (status: 1, multicast: 32768, broadcast: 0)\n",
      "2025-03-08 22:54:00.643 (   0.002s) [          458F7B]      netinterfaces.cpp:105   INFO| \tIPv6 addr: fe80::1%lo0\n",
      "2025-03-08 22:54:00.643 (   0.002s) [          458F7B]      netinterfaces.cpp:91    INFO| netif 'gif0' (status: 0, multicast: 32768, broadcast: 0)\n",
      "2025-03-08 22:54:00.643 (   0.002s) [          458F7B]      netinterfaces.cpp:91    INFO| netif 'stf0' (status: 0, multicast: 0, broadcast: 0)\n",
      "2025-03-08 22:54:00.643 (   0.002s) [          458F7B]      netinterfaces.cpp:91    INFO| netif 'anpi2' (status: 1, multicast: 32768, broadcast: 2)\n",
      "2025-03-08 22:54:00.643 (   0.002s) [          458F7B]      netinterfaces.cpp:91    INFO| netif 'anpi1' (status: 1, multicast: 32768, broadcast: 2)\n",
      "2025-03-08 22:54:00.643 (   0.002s) [          458F7B]      netinterfaces.cpp:91    INFO| netif 'anpi0' (status: 1, multicast: 32768, broadcast: 2)\n",
      "2025-03-08 22:54:00.643 (   0.002s) [          458F7B]      netinterfaces.cpp:91    INFO| netif 'en4' (status: 1, multicast: 32768, broadcast: 2)\n",
      "2025-03-08 22:54:00.643 (   0.002s) [          458F7B]      netinterfaces.cpp:91    INFO| netif 'en5' (status: 1, multicast: 32768, broadcast: 2)\n",
      "2025-03-08 22:54:00.643 (   0.002s) [          458F7B]      netinterfaces.cpp:91    INFO| netif 'en7' (status: 1, multicast: 32768, broadcast: 2)\n",
      "2025-03-08 22:54:00.643 (   0.002s) [          458F7B]      netinterfaces.cpp:91    INFO| netif 'en1' (status: 1, multicast: 32768, broadcast: 2)\n",
      "2025-03-08 22:54:00.643 (   0.002s) [          458F7B]      netinterfaces.cpp:91    INFO| netif 'en2' (status: 1, multicast: 32768, broadcast: 2)\n",
      "2025-03-08 22:54:00.643 (   0.002s) [          458F7B]      netinterfaces.cpp:91    INFO| netif 'en3' (status: 1, multicast: 32768, broadcast: 2)\n",
      "2025-03-08 22:54:00.643 (   0.002s) [          458F7B]      netinterfaces.cpp:91    INFO| netif 'bridge0' (status: 1, multicast: 32768, broadcast: 2)\n",
      "2025-03-08 22:54:00.643 (   0.002s) [          458F7B]      netinterfaces.cpp:91    INFO| netif 'ap1' (status: 1, multicast: 32768, broadcast: 2)\n",
      "2025-03-08 22:54:00.643 (   0.002s) [          458F7B]      netinterfaces.cpp:91    INFO| netif 'en0' (status: 1, multicast: 32768, broadcast: 2)\n",
      "2025-03-08 22:54:00.643 (   0.002s) [          458F7B]      netinterfaces.cpp:91    INFO| netif 'en0' (status: 1, multicast: 32768, broadcast: 2)\n",
      "2025-03-08 22:54:00.643 (   0.002s) [          458F7B]      netinterfaces.cpp:105   INFO| \tIPv6 addr: fe80::c42:48c9:b994:c1c4%en0\n",
      "2025-03-08 22:54:00.643 (   0.002s) [          458F7B]      netinterfaces.cpp:91    INFO| netif 'en0' (status: 1, multicast: 32768, broadcast: 2)\n",
      "2025-03-08 22:54:00.643 (   0.002s) [          458F7B]      netinterfaces.cpp:102   INFO| \tIPv4 addr: c0a80164\n",
      "2025-03-08 22:54:00.643 (   0.002s) [          458F7B]      netinterfaces.cpp:91    INFO| netif 'awdl0' (status: 1, multicast: 32768, broadcast: 2)\n",
      "2025-03-08 22:54:00.643 (   0.002s) [          458F7B]      netinterfaces.cpp:91    INFO| netif 'awdl0' (status: 1, multicast: 32768, broadcast: 2)\n",
      "2025-03-08 22:54:00.643 (   0.002s) [          458F7B]      netinterfaces.cpp:105   INFO| \tIPv6 addr: fe80::4c3f:75ff:fe5a:b6bf%awdl0\n",
      "2025-03-08 22:54:00.643 (   0.002s) [          458F7B]      netinterfaces.cpp:91    INFO| netif 'llw0' (status: 1, multicast: 32768, broadcast: 2)\n",
      "2025-03-08 22:54:00.643 (   0.002s) [          458F7B]      netinterfaces.cpp:91    INFO| netif 'llw0' (status: 1, multicast: 32768, broadcast: 2)\n",
      "2025-03-08 22:54:00.644 (   0.002s) [          458F7B]      netinterfaces.cpp:105   INFO| \tIPv6 addr: fe80::4c3f:75ff:fe5a:b6bf%llw0\n",
      "2025-03-08 22:54:00.644 (   0.002s) [          458F7B]      netinterfaces.cpp:91    INFO| netif 'utun0' (status: 1, multicast: 32768, broadcast: 0)\n",
      "2025-03-08 22:54:00.644 (   0.002s) [          458F7B]      netinterfaces.cpp:91    INFO| netif 'utun0' (status: 1, multicast: 32768, broadcast: 0)\n",
      "2025-03-08 22:54:00.644 (   0.002s) [          458F7B]      netinterfaces.cpp:105   INFO| \tIPv6 addr: fe80::14e4:6f7:350e:7c2%utun0\n",
      "2025-03-08 22:54:00.644 (   0.002s) [          458F7B]      netinterfaces.cpp:91    INFO| netif 'utun1' (status: 1, multicast: 32768, broadcast: 0)\n",
      "2025-03-08 22:54:00.644 (   0.002s) [          458F7B]      netinterfaces.cpp:91    INFO| netif 'utun1' (status: 1, multicast: 32768, broadcast: 0)\n",
      "2025-03-08 22:54:00.644 (   0.002s) [          458F7B]      netinterfaces.cpp:105   INFO| \tIPv6 addr: fe80::428d:8cca:2a46:e770%utun1\n",
      "2025-03-08 22:54:00.644 (   0.002s) [          458F7B]      netinterfaces.cpp:91    INFO| netif 'utun2' (status: 1, multicast: 32768, broadcast: 0)\n",
      "2025-03-08 22:54:00.644 (   0.002s) [          458F7B]      netinterfaces.cpp:91    INFO| netif 'utun2' (status: 1, multicast: 32768, broadcast: 0)\n",
      "2025-03-08 22:54:00.644 (   0.002s) [          458F7B]      netinterfaces.cpp:105   INFO| \tIPv6 addr: fe80::449:ab46:aa11:8eaf%utun2\n",
      "2025-03-08 22:54:00.644 (   0.002s) [          458F7B]      netinterfaces.cpp:91    INFO| netif 'utun3' (status: 1, multicast: 32768, broadcast: 0)\n",
      "2025-03-08 22:54:00.644 (   0.002s) [          458F7B]      netinterfaces.cpp:91    INFO| netif 'utun3' (status: 1, multicast: 32768, broadcast: 0)\n",
      "2025-03-08 22:54:00.644 (   0.003s) [          458F7B]      netinterfaces.cpp:105   INFO| \tIPv6 addr: fe80::ce81:b1c:bd2c:69e%utun3\n",
      "2025-03-08 22:54:00.644 (   0.003s) [          458F7B]         api_config.cpp:271   INFO| Loaded default config\n",
      "2025-03-08 22:54:00.644 (   0.003s) [          458F7B]             common.cpp:66    INFO| git:v1.16.2-34-g7e61a2ef/branch:master/build:Release/compiler:AppleClang-16.0.0.16000026/link:SHARED\n",
      "2025-03-08 22:54:00.644 (   0.003s) [          458F7B]         udp_server.cpp:82    WARN| Could not bind multicast responder for ff02:113d:6fdd:2c17:a643:ffe2:1bd1:3cd2 to interface ::1 (Can't assign requested address)\n",
      "2025-03-08 22:54:00.644 (   0.003s) [          458F7B]         udp_server.cpp:82    WARN| Could not bind multicast responder for ff05:113d:6fdd:2c17:a643:ffe2:1bd1:3cd2 to interface ::1 (Can't assign requested address)\n"
     ]
    },
    {
     "ename": "KeyboardInterrupt",
     "evalue": "",
     "output_type": "error",
     "traceback": [
      "\u001b[0;31m---------------------------------------------------------------------------\u001b[0m",
      "\u001b[0;31mKeyboardInterrupt\u001b[0m                         Traceback (most recent call last)",
      "Cell \u001b[0;32mIn[1], line 11\u001b[0m\n\u001b[1;32m      9\u001b[0m time\u001b[38;5;241m.\u001b[39msleep(\u001b[38;5;241m0.1\u001b[39m)\n\u001b[1;32m     10\u001b[0m outlet\u001b[38;5;241m.\u001b[39mpush_sample([\u001b[38;5;124m'\u001b[39m\u001b[38;5;124moff\u001b[39m\u001b[38;5;124m'\u001b[39m])\n\u001b[0;32m---> 11\u001b[0m \u001b[43mtime\u001b[49m\u001b[38;5;241;43m.\u001b[39;49m\u001b[43msleep\u001b[49m\u001b[43m(\u001b[49m\u001b[38;5;241;43m0.15\u001b[39;49m\u001b[43m)\u001b[49m\n",
      "\u001b[0;31mKeyboardInterrupt\u001b[0m: "
     ]
    }
   ],
   "source": [
    "from pylsl import StreamInfo, StreamOutlet\n",
    "import time\n",
    "\n",
    "info = StreamInfo(name='LaserMarkerStream', type='Markers', channel_count=1, nominal_srate = 0, channel_format='string', source_id='CharacterEvent')\n",
    "outlet = StreamOutlet(info)\n",
    "\n",
    "while True:\n",
    "    outlet.push_sample(['on'])\n",
    "    time.sleep(0.1)\n",
    "    outlet.push_sample(['off'])\n",
    "    time.sleep(0.15)"
   ]
  },
  {
   "cell_type": "code",
   "execution_count": null,
   "metadata": {},
   "outputs": [],
   "source": []
  }
 ],
 "metadata": {
  "kernelspec": {
   "display_name": "lsl_viewer",
   "language": "python",
   "name": "python3"
  },
  "language_info": {
   "codemirror_mode": {
    "name": "ipython",
    "version": 3
   },
   "file_extension": ".py",
   "mimetype": "text/x-python",
   "name": "python",
   "nbconvert_exporter": "python",
   "pygments_lexer": "ipython3",
   "version": "3.10.15"
  }
 },
 "nbformat": 4,
 "nbformat_minor": 2
}
