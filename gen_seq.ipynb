{
 "cells": [
  {
   "cell_type": "code",
   "execution_count": 2,
   "metadata": {},
   "outputs": [],
   "source": [
    "import numpy as np\n",
    "import matplotlib.pyplot as plt\n",
    "import seaborn as sns\n"
   ]
  },
  {
   "cell_type": "markdown",
   "metadata": {},
   "source": [
    "# Codebook generation for laser pointer visual stimulus"
   ]
  },
  {
   "cell_type": "markdown",
   "metadata": {},
   "source": [
    "## Condition 1"
   ]
  },
  {
   "cell_type": "code",
   "execution_count": 3,
   "metadata": {},
   "outputs": [],
   "source": [
    "n_objs = 8\n",
    "\n",
    "sfreq = 1000\n",
    "soa = 250\n",
    "on_duration = 100\n",
    "off_duration = 150\n",
    "switch_duration = 500\n",
    "\n",
    "n_blinks = 12\n",
    "\n",
    "n_blinked = 0\n",
    "\n",
    "n_reps = 1"
   ]
  },
  {
   "cell_type": "code",
   "execution_count": 4,
   "metadata": {},
   "outputs": [],
   "source": [
    "codebook = np.zeros((n_objs, n_blinks * n_objs))\n",
    "\n",
    "n_blinked = 0\n",
    "current_obj = 0\n",
    "for i in range(codebook.shape[0]):\n",
    "    for j in range(codebook.shape[1]):\n",
    "        if codebook[:, j].sum() == 0:\n",
    "            codebook[i, j] = 1\n",
    "            n_blinked += 1\n",
    "        if n_blinked == n_blinks:\n",
    "            n_blinked = 0\n",
    "            break\n",
    "        \n",
    "                \n",
    "    "
   ]
  },
  {
   "cell_type": "code",
   "execution_count": 5,
   "metadata": {},
   "outputs": [
    {
     "data": {
      "image/png": "[encoded data removed]",
      "text/plain": [
       "<Figure size 1000x1000 with 1 Axes>"
      ]
     },
     "metadata": {},
     "output_type": "display_data"
    }
   ],
   "source": [
    "plt.figure(figsize=(10, 10))\n",
    "plt.imshow(codebook, cmap=sns.cm.rocket_r)\n",
    "plt.xticks(np.arange(0, codebook.shape[1], n_blinks), np.arange(0, codebook.shape[1], n_blinks))\n",
    "plt.yticks(np.arange(0, codebook.shape[0]), np.arange(0, codebook.shape[0]))\n",
    "# plt.grid()\n",
    "plt.show()"
   ]
  },
  {
   "cell_type": "code",
   "execution_count": 6,
   "metadata": {},
   "outputs": [
    {
     "name": "stdout",
     "output_type": "stream",
     "text": [
      "[array([0, 1]), array([0, 0, 1]), array([0, 0, 0, 1]), array([0, 0, 0, 0, 1]), array([0, 0, 0, 0, 0, 1])]\n",
      "(8, 96)\n",
      "(8, 101)\n"
     ]
    },
    {
     "data": {
      "image/png": "[encoded data removed]",
      "text/plain": [
       "<Figure size 1000x500 with 2 Axes>"
      ]
     },
     "metadata": {},
     "output_type": "display_data"
    }
   ],
   "source": [
    "# window = np.linspace(1, 0, n_blinks) ** 4\n",
    "# window = np.array([0, 0, 0, 1, 0, 0, 0, 0, 0, 0, 0, 0, ])\n",
    "window_high = np.array([0, 0, 0, 0, 0, 1])\n",
    "windows = [window_high[i:] for i in range(len(window_high) - 1)][::-1]\n",
    "print(windows)\n",
    "print(codebook.shape)\n",
    "response_strength = np.zeros_like(codebook)\n",
    "padding = np.zeros((n_objs, len(window_high) - 1))\n",
    "codebook_padded = np.hstack([padding, codebook])\n",
    "print(codebook_padded.shape)\n",
    "for k, window in enumerate(windows):\n",
    "    for i in range(codebook.shape[0]):\n",
    "        for j in range(codebook.shape[1] - len(window) - 1):\n",
    "            if (codebook_padded[i, j:j+len(window)] == window).sum() == len(window):\n",
    "                    response_strength[i, j] = k + 1\n",
    "\n",
    "\n",
    "response_strength = response_strength ** 3\n",
    "response_strength = response_strength / response_strength.max()\n",
    "\n",
    "fig, axs = plt.subplots(2, 1, figsize=(10, 5))\n",
    "axs[0].imshow(codebook, cmap=sns.cm.rocket_r)\n",
    "axs[0].set_title('Codebook')\n",
    "axs[1].imshow(response_strength, cmap=sns.cm.rocket_r)\n",
    "axs[1].set_title('Response Strength')\n",
    "plt.show()"
   ]
  },
  {
   "cell_type": "markdown",
   "metadata": {},
   "source": [
    "## Codebook 2"
   ]
  },
  {
   "cell_type": "code",
   "execution_count": 1,
   "metadata": {},
   "outputs": [],
   "source": [
    "# codebook = np.random.choice([0, 1], size=[codebook.shape[0], codebook.shape[1]], p=[0.8, 0.2])\n",
    "\n",
    "# # Minimum target to target distance.\n",
    "# # window = np.linspace(1, 0, n_blinks) ** 4\n",
    "# # window = np.array([0, 0, 0, 1, 0, 0, 0, 0, 0, 0, 0, 0, ])\n",
    "# window_high = np.array([0, 0, 0, 0, 0, 1])\n",
    "# windows = [window_high[i:] for i in range(len(window_high) - 1)][::-1]\n",
    "# print(windows)\n",
    "# print(codebook.shape)\n",
    "# response_strength = np.zeros_like(codebook)\n",
    "# padding = np.zeros((n_objs, len(window_high) - 1))\n",
    "# codebook_padded = np.hstack([padding, codebook])\n",
    "# print(codebook_padded.shape)\n",
    "# for k, window in enumerate(windows):\n",
    "#     for i in range(codebook.shape[0]):\n",
    "#         for j in range(codebook.shape[1] - len(window) - 1):\n",
    "#             if (codebook_padded[i, j:j+len(window)] == window).sum() == len(window):\n",
    "#                     response_strength[i, j] = k + 1\n",
    "\n",
    "# # response_strength = response_strength ** 3\n",
    "# response_strength = response_strength / response_strength.max()\n",
    "\n",
    "# fig, axs = plt.subplots(2, 1, figsize=(10, 5))\n",
    "# axs[0].imshow(codebook, cmap=sns.cm.rocket_r)\n",
    "# axs[0].set_title('Codebook')\n",
    "# axs[1].imshow(response_strength, cmap=sns.cm.rocket_r)\n",
    "# axs[1].set_title('Response Strength')\n",
    "# plt.show()"
   ]
  },
  {
   "cell_type": "code",
   "execution_count": 2,
   "metadata": {},
   "outputs": [],
   "source": [
    "# TNT ration average overtime.\n",
    "\n",
    "# NOTE: ITR as an objective metric?\n",
    "\n",
    "# We don't assume targets.\n",
    "# Highlight probability should be set by user. (Common values are 0.1, 0.2)\n",
    "# No neighbor in time.\n",
    "# No neighbor in space(?) not sure.\n",
    "# \n",
    "# distance between object\n",
    "# Each object should be converged."
   ]
  },
  {
   "cell_type": "code",
   "execution_count": 4,
   "metadata": {},
   "outputs": [],
   "source": [
    "# # Function that computes target, non-target ratio of each object from codebook\n",
    "# def compute_target_ratio(codebook: np.ndarray) -> float:\n",
    "#     target_ratio = np.zeros(codebook.shape[0])\n",
    "#     for i in range(codebook.shape[0]):\n",
    "#         target_ratio[i] = codebook[i].sum() / codebook.shape[1]\n",
    "#     return target_ratio\n",
    "\n",
    "# target_ratio = compute_target_ratio(codebook)"
   ]
  },
  {
   "cell_type": "code",
   "execution_count": 5,
   "metadata": {},
   "outputs": [],
   "source": [
    "n_objs = 8\n",
    "\n",
    "sfreq = 1000\n",
    "soa = 250\n",
    "on_duration = 100\n",
    "off_duration = 150\n",
    "switch_duration = 500\n",
    "\n",
    "n_blinks = 12\n",
    "\n",
    "n_blinked = 0\n",
    "\n",
    "n_reps = 1"
   ]
  },
  {
   "cell_type": "code",
   "execution_count": 6,
   "metadata": {},
   "outputs": [
    {
     "data": {
      "text/plain": [
       "(4, 2250)"
      ]
     },
     "execution_count": 6,
     "metadata": {},
     "output_type": "execute_result"
    }
   ],
   "source": [
    "def compute_response(codebook: np.ndarray, type: str='exp', window_size: int=12) -> float:\n",
    "    window = np.linspace(0, 1, window_size)\n",
    "    \n",
    "    \n",
    "    "
   ]
  },
  {
   "cell_type": "code",
   "execution_count": null,
   "metadata": {},
   "outputs": [],
   "source": []
  },
  {
   "cell_type": "code",
   "execution_count": null,
   "metadata": {},
   "outputs": [],
   "source": []
  },
  {
   "cell_type": "code",
   "execution_count": null,
   "metadata": {},
   "outputs": [],
   "source": [
    "a = np.random.choice([0, 1], size=[4, 32], p=[0.5, 0.5])\n",
    "\n",
    "for i in range(a.shape[0]): \n",
    "    for j in range(a.shape[1]):\n",
    "        print(f'{int(a[i, j])} ', end='')\n",
    "    print()"
   ]
  },
  {
   "cell_type": "code",
   "execution_count": null,
   "metadata": {},
   "outputs": [],
   "source": [
    "int(a[i, j])"
   ]
  },
  {
   "cell_type": "code",
   "execution_count": null,
   "metadata": {},
   "outputs": [],
   "source": []
  }
 ],
 "metadata": {
  "kernelspec": {
   "display_name": "mne",
   "language": "python",
   "name": "python3"
  },
  "language_info": {
   "codemirror_mode": {
    "name": "ipython",
    "version": 3
   },
   "file_extension": ".py",
   "mimetype": "text/x-python",
   "name": "python",
   "nbconvert_exporter": "python",
   "pygments_lexer": "ipython3",
   "version": "3.11.10"
  }
 },
 "nbformat": 4,
 "nbformat_minor": 2
}
