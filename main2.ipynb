{
 "cells": [
  {
   "cell_type": "code",
   "execution_count": 2,
   "id": "0181ef84",
   "metadata": {},
   "outputs": [],
   "source": [
    "import os\n",
    "import glob\n",
    "import time\n",
    "import psutil\n",
    "import serial\n",
    "import numpy as np\n",
    "import datetime\n",
    "from pylsl import StreamInfo, StreamOutlet, resolve_streams\n",
    "from dareplane_utils.general.time import sleep_s\n",
    "import logging\n",
    "\n",
    "from typing import List\n",
    "\n",
    "logger = logging.getLogger(__name__)\n"
   ]
  },
  {
   "cell_type": "code",
   "execution_count": null,
   "id": "c032ff2f",
   "metadata": {},
   "outputs": [],
   "source": [
    "\n",
    "class StimController:\n",
    "    def __init__(self, port: str):\n",
    "        self.port = port\n",
    "        self.baud_rate = 115200\n",
    "        \n",
    "        # self.optimize_timer_resolution()\n",
    "        \n",
    "        self.codebooks = []\n",
    "        self.n_objs = 8\n",
    "        \n",
    "        # Connect to teensy\n",
    "        self.teensy = None\n",
    "        self.connect_teensy()\n",
    "        \n",
    "        # Start marker stream\n",
    "        self.sequence_outlet = None\n",
    "        self.init_sequence_lsl_stream()\n",
    "        # Start marker stream\n",
    "        self.marker_outlet = None\n",
    "        self.init_marker_lsl_stream()\n",
    "        \n",
    "        # Start description stream\n",
    "        self.desc_outlet = None\n",
    "        self.init_desc_lsl_stream()\n",
    "        \n",
    "        # Experimental setup for codebooks 1 and 2\n",
    "        self.sequence_on_duration = 0.1\n",
    "        self.sequence_off_duration = 0.15\n",
    "        self.sequence_duration = self.sequence_on_duration + self.sequence_off_duration\n",
    "        self.trial_duration = 12\n",
    "        self.trial_rest_duration = 3\n",
    "        self.n_trials = self.n_objs\n",
    "        \n",
    "        self.run_duration = self.trial_duration * self.n_trials + self.trial_rest_duration * (self.n_trials - 1)\n",
    "        self.run_rest_duration = 30\n",
    "        self.n_runs = 3\n",
    "        \n",
    "        # Exeriment vars\n",
    "        self.trial_num = 1\n",
    "        self.run_num = 1\n",
    "        self.block_num = 1\n",
    "    \n",
    "    def connect_teensy(self) -> None:\n",
    "        try:\n",
    "            self.teensy = serial.Serial(self.port, self.baud_rate, timeout=1)\n",
    "            sleep_s(2)  # Wait for Arduino to initialize\n",
    "        except Exception as e:\n",
    "            logging.warning(f\"Teensy not connected: {e}\")\n",
    "    \n",
    "    def init_sequence_lsl_stream(self) -> None:\n",
    "        \"\"\"cf_int8 = 6, cf_string = 3\n",
    "        \"\"\"\n",
    "        info = StreamInfo(name='SequenceStream', type='Marker', channel_count=8, channel_format=6)\n",
    "        self.sequence_outlet = StreamOutlet(info)\n",
    "    \n",
    "    def init_marker_lsl_stream(self) -> None:\n",
    "        info = StreamInfo(name='MarkerStream', type='Marker', channel_count=1, channel_format=3)\n",
    "        self.marker_outlet = StreamOutlet(info)\n",
    "        \n",
    "    def init_desc_lsl_stream(self) -> None:\n",
    "        info = StreamInfo(name='DescriptionStream', type='Marker', channel_count=1, channel_format=3)\n",
    "        self.desc_outlet = StreamOutlet(info)\n",
    "    \n",
    "    def optimize_timer_resolution(self) -> None:\n",
    "        \"\"\"Optimize the timer resolution to improve precision.\"\"\"\n",
    "        import ctypes\n",
    "        try:\n",
    "            logging.info(\"Optimizing timer resolution...\")\n",
    "            ctypes.windll.winmm.timeBeginPeriod(1)\n",
    "            logging.info(\"Timer resolution set to 1ms.\")\n",
    "        except Exception as e:\n",
    "            logging.warning(f\"Error optimizing timer resolution: {e}\")\n",
    "        \n",
    "        p = psutil.Process(os.getpid())\n",
    "        p.nice(psutil.HIGH_PRIORITY_CLASS if os.name == 'nt' else 10)\n",
    "        logging.info(\"Priority set. Running script...\")\n",
    "    \n",
    "    def send_laser_values(self, values) -> None:\n",
    "        if self.teensy is not None:\n",
    "            data_str = \",\".join(map(str, values)) + \"\\n\"\n",
    "            self.teensy.write(data_str.encode())  # Send data\n",
    "    \n",
    "    def load_codebook(self, filepath: str) -> np.ndarray:\n",
    "        codebook = np.load(filepath).T\n",
    "        assert codebook.shape[1] == self.n_objs, f'Codebook shape should be (n_sequences, {self.n_objs}). Current shape: {codebook.shape}'\n",
    "        return codebook\n",
    "\n",
    "    def load_codebooks_block_1(self, filepath: str='./codebooks/condition_1/codebook_1_henrich.npy') -> None:\n",
    "        \"\"\"Block 1 aka Henrich's codebook\"\"\"\n",
    "        self.codebooks = []\n",
    "        codebook = self.load_codebook(filepath)\n",
    "        for _ in range(self.n_objs):\n",
    "            self.codebooks.append(codebook.tolist())\n",
    "        logging.info(f'Codebooks loaded. shape: {np.array(self.codebooks).shape}')\n",
    "            \n",
    "    def load_codebooks_block_2(self, dir: str='./codebooks/condition_2') -> None:\n",
    "        \"\"\"Block 2 aka custom codebook\"\"\"\n",
    "        self.codebooks = []\n",
    "        \n",
    "        fpaths = sorted(glob.glob(f'{dir}/codebook_obj_*.npy'))\n",
    "        assert len(fpaths) == self.n_objs, f'there should be {self.n_objs} codebooks for block 2. Current codebooks: {len(fpaths)}'\n",
    "        \n",
    "        for fpath in fpaths:\n",
    "            codebook = self.load_codebook(fpath).tolist()\n",
    "            self.codebooks.append(codebook)\n",
    "        logging.info(f'Codebooks loaded. shape: {np.array(self.codebooks).shape}')\n",
    "        \n",
    "    def load_codebooks_block_3(self, fpath: str='./codebooks/condition_3/mseq_61_shift_8.npy') -> None:\n",
    "        \"\"\"Block 2 aka custom cVEP\"\"\"\n",
    "        self.codebooks = []\n",
    "        \n",
    "        codebook = self.load_codebook(fpath)\n",
    "        # Select 8 codebooks\n",
    "        codebook = np.vstack([codebook] * self.trial_duration)\n",
    "        self.codebooks = np.array([codebook] * 8)\n",
    "        self.codebooks = self.codebooks.tolist()\n",
    "        \n",
    "        logging.info(f'Codebooks loaded. shape: {np.array(self.codebooks).shape}')\n",
    "            \n",
    "    def post_sequence(self, sequence: list):\n",
    "        \"\"\"send sequence to lsl stream\"\"\"\n",
    "        try:\n",
    "            sequence = [int(i) for i in sequence]\n",
    "            self.sequence_outlet.push_sample(sequence)\n",
    "        except Exception as e:\n",
    "            logging.warning(f\"Error posting sequence: {e}\")\n",
    "            \n",
    "    def post_description(self, description: str):\n",
    "        \"\"\"send description to lsl stream\"\"\"\n",
    "        try:\n",
    "            self.desc_outlet.push_sample([description])\n",
    "        except Exception as e:\n",
    "            logging.warning(f\"Error posting description: {e}\")\n",
    "            \n",
    "    def post_marker(self, marker: str):\n",
    "        \"\"\"send marker to lsl stream\"\"\"\n",
    "        try:\n",
    "            self.marker_outlet.push_sample([marker])\n",
    "        except Exception as e:\n",
    "            logging.warning(f\"Error posting marker: {e}\")\n",
    "\n",
    "    def run_sequence(self, sequence: list):\n",
    "        \"\"\"Run a single sequence\"\"\"\n",
    "        # Turn on the Lasers\n",
    "        end_time = datetime.datetime.now() + datetime.timedelta(seconds=self.sequence_on_duration)\n",
    "        self.send_laser_values(sequence)\n",
    "        self.post_sequence(sequence)\n",
    "        # Wait until turn on duration is over\n",
    "        while datetime.datetime.now() < end_time:\n",
    "            pass\n",
    "        \n",
    "        # Turn off the lasers\n",
    "        if self.sequence_off_duration != 0:\n",
    "            end_time = datetime.datetime.now() + datetime.timedelta(seconds=self.sequence_off_duration)\n",
    "            self.send_laser_values([0] * 8)\n",
    "            self.post_sequence([0] * 8)\n",
    "            # Wait until turn off duration is over\n",
    "            while datetime.datetime.now() < end_time:\n",
    "                pass\n",
    "        \n",
    "    def run_trial(self, codebook: list):\n",
    "        \"\"\"Run a single trial with multiple sequences\"\"\"\n",
    "        self.post_description(f'Block:{self.block_num} Run:{self.run_num} Trial:{self.trial_num}')\n",
    "        self.post_marker('Trial start')\n",
    "        for sequence in codebook:\n",
    "            sequence_start_time = datetime.datetime.now()\n",
    "            self.run_sequence(sequence)\n",
    "            dt = datetime.datetime.now() - sequence_start_time\n",
    "            logging.info(f'Sequence duration: {dt.seconds // 60} mins {dt.seconds % 60} secs {dt.microseconds / 1000} ms')\n",
    "        self.post_marker('Trial end')\n",
    "        self.trial_num = self.trial_num + 1\n",
    "            \n",
    "    def run_run(self):\n",
    "        \"\"\"Run a single run with multiple trials\"\"\"\n",
    "        self.post_marker('Run start')\n",
    "\n",
    "        obj_order = np.random.permutation(np.arange(self.n_objs))\n",
    "        codebooks = self.codebooks[obj_order]\n",
    "                \n",
    "        for codebook in codebooks:\n",
    "            trial_start_time = datetime.datetime.now()\n",
    "            self.run_trial(codebook)\n",
    "            dt = datetime.datetime.now() - trial_start_time\n",
    "            logging.info(f'Trial duration: {dt.seconds // 60} mins {dt.seconds % 60} secs {dt.microseconds / 1000} ms')\n",
    "            # Rest for trial_rest_duration seconds\n",
    "            rest_end_time = datetime.datetime.now() + datetime.timedelta(seconds=self.trial_rest_duration)\n",
    "            self.post_description('Rest')\n",
    "            self.post_marker('Trial Rest')\n",
    "            self.send_laser_values([0] * 8)\n",
    "            self.post_sequence([0] * 8)\n",
    "            while datetime.datetime.now() < rest_end_time:\n",
    "                pass\n",
    "        self.post_marker('Run end')\n",
    "        self.trial_num = 1\n",
    "        self.run_num = self.run_num + 1\n",
    "                \n",
    "    def run_block(self):\n",
    "        \"\"\"Run a block with multiple runs\"\"\"\n",
    "        self.post_marker('Block start')\n",
    "        for _ in range(self.n_runs):\n",
    "            self.post_marker('Run Rest')\n",
    "            for i in range(30):\n",
    "                self.post_description(f'Rest. Run start in: {30 - i}')\n",
    "                sleep_s(1)\n",
    "                \n",
    "            run_start_time = datetime.datetime.now()\n",
    "            self.run_run()\n",
    "            dt = datetime.datetime.now() - run_start_time\n",
    "            logging.info(f'Run duration: {dt.seconds // 60} mins {dt.seconds % 60} secs {dt.microseconds / 1000} ms')\n",
    "        self.post_marker('Block end')\n",
    "        self.run_num = 1\n",
    "        self.block_num = self.block_num + 1\n",
    "        \n",
    "    def run_session(self):\n",
    "        # Start ERP condition 1\n",
    "        self.load_codebooks_block_1()\n",
    "        self.run_block()\n",
    "        \n",
    "        # Start ERP condition 2\n",
    "        self.load_codebooks_block_2()\n",
    "        self.run_block()\n",
    "        \n",
    "        # Start cVEP\n",
    "        self.load_codebooks_block_3()\n",
    "        self.sequence_on_duration = 1/63\n",
    "        self.sequence_off_duration = 0\n",
    "        self.run_block()\n",
    "        \n",
    "    def run_test(self):\n",
    "        \"\"\"Run a test sequence\"\"\"\n",
    "        self.post_description('Test sequence')\n",
    "        self.post_marker('Test start')\n",
    "        for i in range(8):\n",
    "            self.run_sequence([0] * 8)\n",
    "            self.run_sequence([1] * 8)\n",
    "        self.post_marker('Test end')\n",
    "        self.post_description('Test end')"
   ]
  },
  {
   "cell_type": "code",
   "execution_count": 4,
   "id": "ceded27d",
   "metadata": {},
   "outputs": [
    {
     "name": "stdout",
     "output_type": "stream",
     "text": [
      "Generated source_id: '6862202147842022927' for StreamInfo with name 'SequenceStream', type 'Marker', channel_count 8, nominal_srate 0.0, and channel_format 6.\n",
      "Generated source_id: '-6825640803886660845' for StreamInfo with name 'MarkerStream', type 'Marker', channel_count 1, nominal_srate 0.0, and channel_format 3.\n",
      "Generated source_id: '-940211461164384331' for StreamInfo with name 'DescriptionStream', type 'Marker', channel_count 1, nominal_srate 0.0, and channel_format 3.\n"
     ]
    },
    {
     "name": "stderr",
     "output_type": "stream",
     "text": [
      "2025-06-17 16:52:49.074 (   2.096s) [          313D39]      netinterfaces.cpp:91    INFO| netif 'lo0' (status: 1, multicast: 32768, broadcast: 0)\n",
      "2025-06-17 16:52:49.074 (   2.096s) [          313D39]      netinterfaces.cpp:91    INFO| netif 'lo0' (status: 1, multicast: 32768, broadcast: 0)\n",
      "2025-06-17 16:52:49.074 (   2.096s) [          313D39]      netinterfaces.cpp:102   INFO| \tIPv4 addr: 7f000001\n",
      "2025-06-17 16:52:49.074 (   2.096s) [          313D39]      netinterfaces.cpp:91    INFO| netif 'lo0' (status: 1, multicast: 32768, broadcast: 0)\n",
      "2025-06-17 16:52:49.074 (   2.096s) [          313D39]      netinterfaces.cpp:105   INFO| \tIPv6 addr: ::1\n",
      "2025-06-17 16:52:49.074 (   2.096s) [          313D39]      netinterfaces.cpp:91    INFO| netif 'lo0' (status: 1, multicast: 32768, broadcast: 0)\n",
      "2025-06-17 16:52:49.074 (   2.096s) [          313D39]      netinterfaces.cpp:105   INFO| \tIPv6 addr: fe80::1%lo0\n",
      "2025-06-17 16:52:49.074 (   2.096s) [          313D39]      netinterfaces.cpp:91    INFO| netif 'gif0' (status: 0, multicast: 32768, broadcast: 0)\n",
      "2025-06-17 16:52:49.074 (   2.096s) [          313D39]      netinterfaces.cpp:91    INFO| netif 'stf0' (status: 0, multicast: 0, broadcast: 0)\n",
      "2025-06-17 16:52:49.074 (   2.096s) [          313D39]      netinterfaces.cpp:91    INFO| netif 'anpi0' (status: 1, multicast: 32768, broadcast: 2)\n",
      "2025-06-17 16:52:49.074 (   2.096s) [          313D39]      netinterfaces.cpp:91    INFO| netif 'anpi2' (status: 1, multicast: 32768, broadcast: 2)\n",
      "2025-06-17 16:52:49.074 (   2.096s) [          313D39]      netinterfaces.cpp:91    INFO| netif 'anpi1' (status: 1, multicast: 32768, broadcast: 2)\n",
      "2025-06-17 16:52:49.074 (   2.096s) [          313D39]      netinterfaces.cpp:91    INFO| netif 'en4' (status: 1, multicast: 32768, broadcast: 2)\n",
      "2025-06-17 16:52:49.074 (   2.096s) [          313D39]      netinterfaces.cpp:91    INFO| netif 'en5' (status: 1, multicast: 32768, broadcast: 2)\n",
      "2025-06-17 16:52:49.074 (   2.096s) [          313D39]      netinterfaces.cpp:91    INFO| netif 'en7' (status: 1, multicast: 32768, broadcast: 2)\n",
      "2025-06-17 16:52:49.074 (   2.096s) [          313D39]      netinterfaces.cpp:91    INFO| netif 'en1' (status: 1, multicast: 32768, broadcast: 2)\n",
      "2025-06-17 16:52:49.074 (   2.096s) [          313D39]      netinterfaces.cpp:91    INFO| netif 'en2' (status: 1, multicast: 32768, broadcast: 2)\n",
      "2025-06-17 16:52:49.074 (   2.096s) [          313D39]      netinterfaces.cpp:91    INFO| netif 'en3' (status: 1, multicast: 32768, broadcast: 2)\n",
      "2025-06-17 16:52:49.074 (   2.096s) [          313D39]      netinterfaces.cpp:91    INFO| netif 'bridge0' (status: 1, multicast: 32768, broadcast: 2)\n",
      "2025-06-17 16:52:49.074 (   2.096s) [          313D39]      netinterfaces.cpp:91    INFO| netif 'ap1' (status: 1, multicast: 32768, broadcast: 2)\n",
      "2025-06-17 16:52:49.074 (   2.096s) [          313D39]      netinterfaces.cpp:91    INFO| netif 'en0' (status: 1, multicast: 32768, broadcast: 2)\n",
      "2025-06-17 16:52:49.074 (   2.096s) [          313D39]      netinterfaces.cpp:91    INFO| netif 'en0' (status: 1, multicast: 32768, broadcast: 2)\n",
      "2025-06-17 16:52:49.074 (   2.096s) [          313D39]      netinterfaces.cpp:105   INFO| \tIPv6 addr: fe80::4bd:641:853b:eeb7%en0\n",
      "2025-06-17 16:52:49.074 (   2.096s) [          313D39]      netinterfaces.cpp:91    INFO| netif 'en0' (status: 1, multicast: 32768, broadcast: 2)\n",
      "2025-06-17 16:52:49.074 (   2.096s) [          313D39]      netinterfaces.cpp:102   INFO| \tIPv4 addr: 9189893a\n",
      "2025-06-17 16:52:49.074 (   2.096s) [          313D39]      netinterfaces.cpp:91    INFO| netif 'utun0' (status: 1, multicast: 32768, broadcast: 0)\n",
      "2025-06-17 16:52:49.074 (   2.096s) [          313D39]      netinterfaces.cpp:91    INFO| netif 'utun0' (status: 1, multicast: 32768, broadcast: 0)\n",
      "2025-06-17 16:52:49.074 (   2.096s) [          313D39]      netinterfaces.cpp:105   INFO| \tIPv6 addr: fe80::a632:c9f9:7473:5d4f%utun0\n",
      "2025-06-17 16:52:49.074 (   2.096s) [          313D39]      netinterfaces.cpp:91    INFO| netif 'awdl0' (status: 1, multicast: 32768, broadcast: 2)\n",
      "2025-06-17 16:52:49.074 (   2.096s) [          313D39]      netinterfaces.cpp:91    INFO| netif 'awdl0' (status: 1, multicast: 32768, broadcast: 2)\n",
      "2025-06-17 16:52:49.074 (   2.096s) [          313D39]      netinterfaces.cpp:105   INFO| \tIPv6 addr: fe80::d0eb:6dff:fea0:826%awdl0\n",
      "2025-06-17 16:52:49.074 (   2.096s) [          313D39]      netinterfaces.cpp:91    INFO| netif 'llw0' (status: 1, multicast: 32768, broadcast: 2)\n",
      "2025-06-17 16:52:49.074 (   2.096s) [          313D39]      netinterfaces.cpp:91    INFO| netif 'llw0' (status: 1, multicast: 32768, broadcast: 2)\n",
      "2025-06-17 16:52:49.075 (   2.096s) [          313D39]      netinterfaces.cpp:105   INFO| \tIPv6 addr: fe80::d0eb:6dff:fea0:826%llw0\n",
      "2025-06-17 16:52:49.075 (   2.096s) [          313D39]      netinterfaces.cpp:91    INFO| netif 'utun1' (status: 1, multicast: 32768, broadcast: 0)\n",
      "2025-06-17 16:52:49.075 (   2.096s) [          313D39]      netinterfaces.cpp:91    INFO| netif 'utun1' (status: 1, multicast: 32768, broadcast: 0)\n",
      "2025-06-17 16:52:49.075 (   2.096s) [          313D39]      netinterfaces.cpp:105   INFO| \tIPv6 addr: fe80::2beb:cf16:4d2e:e4ca%utun1\n",
      "2025-06-17 16:52:49.075 (   2.096s) [          313D39]      netinterfaces.cpp:91    INFO| netif 'utun2' (status: 1, multicast: 32768, broadcast: 0)\n",
      "2025-06-17 16:52:49.075 (   2.096s) [          313D39]      netinterfaces.cpp:91    INFO| netif 'utun2' (status: 1, multicast: 32768, broadcast: 0)\n",
      "2025-06-17 16:52:49.075 (   2.096s) [          313D39]      netinterfaces.cpp:105   INFO| \tIPv6 addr: fe80::78e9:a2d9:2f3a:ab65%utun2\n",
      "2025-06-17 16:52:49.075 (   2.096s) [          313D39]      netinterfaces.cpp:91    INFO| netif 'utun3' (status: 1, multicast: 32768, broadcast: 0)\n",
      "2025-06-17 16:52:49.075 (   2.096s) [          313D39]      netinterfaces.cpp:91    INFO| netif 'utun3' (status: 1, multicast: 32768, broadcast: 0)\n",
      "2025-06-17 16:52:49.075 (   2.096s) [          313D39]      netinterfaces.cpp:105   INFO| \tIPv6 addr: fe80::ce81:b1c:bd2c:69e%utun3\n",
      "2025-06-17 16:52:49.075 (   2.096s) [          313D39]      netinterfaces.cpp:91    INFO| netif 'vmenet0' (status: 1, multicast: 32768, broadcast: 2)\n",
      "2025-06-17 16:52:49.075 (   2.096s) [          313D39]      netinterfaces.cpp:91    INFO| netif 'bridge100' (status: 1, multicast: 32768, broadcast: 2)\n",
      "2025-06-17 16:52:49.075 (   2.096s) [          313D39]      netinterfaces.cpp:91    INFO| netif 'bridge100' (status: 1, multicast: 32768, broadcast: 2)\n",
      "2025-06-17 16:52:49.075 (   2.096s) [          313D39]      netinterfaces.cpp:102   INFO| \tIPv4 addr: ad33702\n",
      "2025-06-17 16:52:49.075 (   2.097s) [          313D39]      netinterfaces.cpp:91    INFO| netif 'bridge100' (status: 1, multicast: 32768, broadcast: 2)\n",
      "2025-06-17 16:52:49.075 (   2.097s) [          313D39]      netinterfaces.cpp:105   INFO| \tIPv6 addr: fe80::80a9:97ff:fe02:f564%bridge100\n",
      "2025-06-17 16:52:49.075 (   2.097s) [          313D39]      netinterfaces.cpp:91    INFO| netif 'bridge100' (status: 1, multicast: 32768, broadcast: 2)\n",
      "2025-06-17 16:52:49.075 (   2.097s) [          313D39]      netinterfaces.cpp:105   INFO| \tIPv6 addr: fdb2:2c26:f4e4::1\n",
      "2025-06-17 16:52:49.075 (   2.097s) [          313D39]      netinterfaces.cpp:91    INFO| netif 'vmenet1' (status: 1, multicast: 32768, broadcast: 2)\n",
      "2025-06-17 16:52:49.075 (   2.097s) [          313D39]      netinterfaces.cpp:91    INFO| netif 'bridge101' (status: 1, multicast: 32768, broadcast: 2)\n",
      "2025-06-17 16:52:49.075 (   2.097s) [          313D39]      netinterfaces.cpp:91    INFO| netif 'bridge101' (status: 1, multicast: 32768, broadcast: 2)\n",
      "2025-06-17 16:52:49.075 (   2.097s) [          313D39]      netinterfaces.cpp:102   INFO| \tIPv4 addr: a258102\n",
      "2025-06-17 16:52:49.075 (   2.097s) [          313D39]      netinterfaces.cpp:91    INFO| netif 'bridge101' (status: 1, multicast: 32768, broadcast: 2)\n",
      "2025-06-17 16:52:49.075 (   2.097s) [          313D39]      netinterfaces.cpp:105   INFO| \tIPv6 addr: fe80::80a9:97ff:fe02:f565%bridge101\n",
      "2025-06-17 16:52:49.075 (   2.097s) [          313D39]      netinterfaces.cpp:91    INFO| netif 'bridge101' (status: 1, multicast: 32768, broadcast: 2)\n",
      "2025-06-17 16:52:49.075 (   2.097s) [          313D39]      netinterfaces.cpp:105   INFO| \tIPv6 addr: fdb2:2c26:f4e4:1::1\n",
      "2025-06-17 16:52:49.076 (   2.097s) [          313D39]      netinterfaces.cpp:91    INFO| netif 'en8' (status: 1, multicast: 32768, broadcast: 2)\n",
      "2025-06-17 16:52:49.076 (   2.097s) [          313D39]         api_config.cpp:271   INFO| Loaded default config\n",
      "2025-06-17 16:52:49.076 (   2.097s) [          313D39]             common.cpp:66    INFO| git:v1.16.2-34-g7e61a2ef/branch:master/build:Release/compiler:AppleClang-16.0.0.16000026/link:SHARED\n",
      "2025-06-17 16:52:49.077 (   2.099s) [          313D39]         udp_server.cpp:82    WARN| Could not bind multicast responder for ff02:113d:6fdd:2c17:a643:ffe2:1bd1:3cd2 to interface ::1 (Can't assign requested address)\n",
      "2025-06-17 16:52:49.077 (   2.099s) [          313D39]         udp_server.cpp:82    WARN| Could not bind multicast responder for ff02:113d:6fdd:2c17:a643:ffe2:1bd1:3cd2 to interface fdb2:2c26:f4e4::1 (Can't assign requested address)\n",
      "2025-06-17 16:52:49.078 (   2.099s) [          313D39]         udp_server.cpp:82    WARN| Could not bind multicast responder for ff02:113d:6fdd:2c17:a643:ffe2:1bd1:3cd2 to interface 10.37.129.2 (Can't assign requested address)\n",
      "2025-06-17 16:52:49.078 (   2.099s) [          313D39]         udp_server.cpp:82    WARN| Could not bind multicast responder for ff02:113d:6fdd:2c17:a643:ffe2:1bd1:3cd2 to interface fdb2:2c26:f4e4:1::1 (Can't assign requested address)\n",
      "2025-06-17 16:52:49.078 (   2.099s) [          313D39]         udp_server.cpp:82    WARN| Could not bind multicast responder for ff05:113d:6fdd:2c17:a643:ffe2:1bd1:3cd2 to interface ::1 (Can't assign requested address)\n",
      "2025-06-17 16:52:49.078 (   2.100s) [          313D39]         udp_server.cpp:82    WARN| Could not bind multicast responder for ff05:113d:6fdd:2c17:a643:ffe2:1bd1:3cd2 to interface fdb2:2c26:f4e4::1 (Can't assign requested address)\n",
      "2025-06-17 16:52:49.078 (   2.100s) [          313D39]         udp_server.cpp:82    WARN| Could not bind multicast responder for ff05:113d:6fdd:2c17:a643:ffe2:1bd1:3cd2 to interface 10.37.129.2 (Can't assign requested address)\n",
      "2025-06-17 16:52:49.078 (   2.100s) [          313D39]         udp_server.cpp:82    WARN| Could not bind multicast responder for ff05:113d:6fdd:2c17:a643:ffe2:1bd1:3cd2 to interface fdb2:2c26:f4e4:1::1 (Can't assign requested address)\n",
      "2025-06-17 16:52:49.079 (   2.101s) [          313D39]         udp_server.cpp:82    WARN| Could not bind multicast responder for ff02:113d:6fdd:2c17:a643:ffe2:1bd1:3cd2 to interface ::1 (Can't assign requested address)\n",
      "2025-06-17 16:52:49.079 (   2.101s) [          313D39]         udp_server.cpp:82    WARN| Could not bind multicast responder for ff02:113d:6fdd:2c17:a643:ffe2:1bd1:3cd2 to interface fdb2:2c26:f4e4::1 (Can't assign requested address)\n",
      "2025-06-17 16:52:49.079 (   2.101s) [          313D39]         udp_server.cpp:82    WARN| Could not bind multicast responder for ff02:113d:6fdd:2c17:a643:ffe2:1bd1:3cd2 to interface 10.37.129.2 (Can't assign requested address)\n",
      "2025-06-17 16:52:49.079 (   2.101s) [          313D39]         udp_server.cpp:82    WARN| Could not bind multicast responder for ff02:113d:6fdd:2c17:a643:ffe2:1bd1:3cd2 to interface fdb2:2c26:f4e4:1::1 (Can't assign requested address)\n",
      "2025-06-17 16:52:49.079 (   2.101s) [          313D39]         udp_server.cpp:82    WARN| Could not bind multicast responder for ff05:113d:6fdd:2c17:a643:ffe2:1bd1:3cd2 to interface ::1 (Can't assign requested address)\n",
      "2025-06-17 16:52:49.079 (   2.101s) [          313D39]         udp_server.cpp:82    WARN| Could not bind multicast responder for ff05:113d:6fdd:2c17:a643:ffe2:1bd1:3cd2 to interface fdb2:2c26:f4e4::1 (Can't assign requested address)\n",
      "2025-06-17 16:52:49.080 (   2.101s) [          313D39]         udp_server.cpp:82    WARN| Could not bind multicast responder for ff05:113d:6fdd:2c17:a643:ffe2:1bd1:3cd2 to interface 10.37.129.2 (Can't assign requested address)\n",
      "2025-06-17 16:52:49.080 (   2.101s) [          313D39]         udp_server.cpp:82    WARN| Could not bind multicast responder for ff05:113d:6fdd:2c17:a643:ffe2:1bd1:3cd2 to interface fdb2:2c26:f4e4:1::1 (Can't assign requested address)\n",
      "2025-06-17 16:52:49.081 (   2.102s) [          313D39]         udp_server.cpp:82    WARN| Could not bind multicast responder for ff02:113d:6fdd:2c17:a643:ffe2:1bd1:3cd2 to interface ::1 (Can't assign requested address)\n",
      "2025-06-17 16:52:49.081 (   2.103s) [          313D39]         udp_server.cpp:82    WARN| Could not bind multicast responder for ff02:113d:6fdd:2c17:a643:ffe2:1bd1:3cd2 to interface fdb2:2c26:f4e4::1 (Can't assign requested address)\n",
      "2025-06-17 16:52:49.081 (   2.103s) [          313D39]         udp_server.cpp:82    WARN| Could not bind multicast responder for ff02:113d:6fdd:2c17:a643:ffe2:1bd1:3cd2 to interface 10.37.129.2 (Can't assign requested address)\n",
      "2025-06-17 16:52:49.081 (   2.103s) [          313D39]         udp_server.cpp:82    WARN| Could not bind multicast responder for ff02:113d:6fdd:2c17:a643:ffe2:1bd1:3cd2 to interface fdb2:2c26:f4e4:1::1 (Can't assign requested address)\n",
      "2025-06-17 16:52:49.081 (   2.103s) [          313D39]         udp_server.cpp:82    WARN| Could not bind multicast responder for ff05:113d:6fdd:2c17:a643:ffe2:1bd1:3cd2 to interface ::1 (Can't assign requested address)\n",
      "2025-06-17 16:52:49.081 (   2.103s) [          313D39]         udp_server.cpp:82    WARN| Could not bind multicast responder for ff05:113d:6fdd:2c17:a643:ffe2:1bd1:3cd2 to interface fdb2:2c26:f4e4::1 (Can't assign requested address)\n",
      "2025-06-17 16:52:49.081 (   2.103s) [          313D39]         udp_server.cpp:82    WARN| Could not bind multicast responder for ff05:113d:6fdd:2c17:a643:ffe2:1bd1:3cd2 to interface 10.37.129.2 (Can't assign requested address)\n",
      "2025-06-17 16:52:49.081 (   2.103s) [          313D39]         udp_server.cpp:82    WARN| Could not bind multicast responder for ff05:113d:6fdd:2c17:a643:ffe2:1bd1:3cd2 to interface fdb2:2c26:f4e4:1::1 (Can't assign requested address)\n"
     ]
    }
   ],
   "source": [
    "port = 'COM5'  # Windows\n",
    "port = '/dev/tty.usbmodem156466901' # Mac\n",
    "controller = StimController(port)"
   ]
  },
  {
   "cell_type": "code",
   "execution_count": 5,
   "id": "be0b8464",
   "metadata": {},
   "outputs": [],
   "source": [
    "controller.run_test()"
   ]
  },
  {
   "cell_type": "code",
   "execution_count": 26,
   "id": "496de7d2",
   "metadata": {},
   "outputs": [],
   "source": [
    "controller.load_codebooks_block_2()"
   ]
  },
  {
   "cell_type": "code",
   "execution_count": 27,
   "id": "ea753711",
   "metadata": {},
   "outputs": [
    {
     "data": {
      "text/plain": [
       "(8, 48, 8)"
      ]
     },
     "execution_count": 27,
     "metadata": {},
     "output_type": "execute_result"
    }
   ],
   "source": [
    "np.array(controller.codebooks).shape"
   ]
  },
  {
   "cell_type": "code",
   "execution_count": 32,
   "id": "f2b4b8c4",
   "metadata": {},
   "outputs": [
    {
     "data": {
      "image/png": "[encoded data removed]",
      "text/plain": [
       "<Figure size 640x480 with 1 Axes>"
      ]
     },
     "metadata": {},
     "output_type": "display_data"
    },
    {
     "name": "stdout",
     "output_type": "stream",
     "text": [
      "[12. 12. 12. 12. 12. 12. 12. 12.]\n"
     ]
    },
    {
     "data": {
      "image/png": "[encoded data removed]",
      "text/plain": [
       "<Figure size 640x480 with 1 Axes>"
      ]
     },
     "metadata": {},
     "output_type": "display_data"
    },
    {
     "name": "stdout",
     "output_type": "stream",
     "text": [
      "[12. 12. 12. 12. 12. 12. 12. 12.]\n"
     ]
    },
    {
     "data": {
      "image/png": "[encoded data removed]",
      "text/plain": [
       "<Figure size 640x480 with 1 Axes>"
      ]
     },
     "metadata": {},
     "output_type": "display_data"
    },
    {
     "name": "stdout",
     "output_type": "stream",
     "text": [
      "[12. 12. 12. 12. 12. 12. 12. 12.]\n"
     ]
    },
    {
     "data": {
      "image/png": "[encoded data removed]",
      "text/plain": [
       "<Figure size 640x480 with 1 Axes>"
      ]
     },
     "metadata": {},
     "output_type": "display_data"
    },
    {
     "name": "stdout",
     "output_type": "stream",
     "text": [
      "[12. 12. 12. 12. 12. 12. 12. 12.]\n"
     ]
    },
    {
     "data": {
      "image/png": "[encoded data removed]",
      "text/plain": [
       "<Figure size 640x480 with 1 Axes>"
      ]
     },
     "metadata": {},
     "output_type": "display_data"
    },
    {
     "name": "stdout",
     "output_type": "stream",
     "text": [
      "[12. 12. 12. 12. 12. 12. 12. 12.]\n"
     ]
    },
    {
     "data": {
      "image/png": "[encoded data removed]",
      "text/plain": [
       "<Figure size 640x480 with 1 Axes>"
      ]
     },
     "metadata": {},
     "output_type": "display_data"
    },
    {
     "name": "stdout",
     "output_type": "stream",
     "text": [
      "[12. 12. 12. 12. 12. 12. 12. 12.]\n"
     ]
    },
    {
     "data": {
      "image/png": "[encoded data removed]",
      "text/plain": [
       "<Figure size 640x480 with 1 Axes>"
      ]
     },
     "metadata": {},
     "output_type": "display_data"
    },
    {
     "name": "stdout",
     "output_type": "stream",
     "text": [
      "[12. 12. 12. 12. 12. 12. 12. 12.]\n"
     ]
    },
    {
     "data": {
      "image/png": "[encoded data removed]",
      "text/plain": [
       "<Figure size 640x480 with 1 Axes>"
      ]
     },
     "metadata": {},
     "output_type": "display_data"
    },
    {
     "name": "stdout",
     "output_type": "stream",
     "text": [
      "[12. 12. 12. 12. 12. 12. 12. 12.]\n"
     ]
    }
   ],
   "source": [
    "import matplotlib.pyplot as plt\n",
    "for i, codebook in enumerate(controller.codebooks):\n",
    "    plt.title(f'Codebook {i}')\n",
    "    plt.imshow(np.array(codebook).T)\n",
    "    plt.show()\n",
    "    print(np.sum(codebook, axis=0))"
   ]
  },
  {
   "cell_type": "code",
   "execution_count": null,
   "id": "f778d749",
   "metadata": {},
   "outputs": [],
   "source": []
  },
  {
   "cell_type": "code",
   "execution_count": null,
   "id": "50245591",
   "metadata": {},
   "outputs": [],
   "source": [
    "n_objs = 8\n",
    "obj_idc = [f'obj_{i}' for i in range(n_objs)]\n",
    "n_runs = 8\n",
    "run_idc = [f'run_{i}' for i in range(n_runs)]\n",
    "n_blocks = 4\n",
    "block_idc = [f'block_{i}' for i in range(n_blocks)]\n",
    "\n"
   ]
  }
 ],
 "metadata": {
  "kernelspec": {
   "display_name": "eeg_visual_exp",
   "language": "python",
   "name": "python3"
  },
  "language_info": {
   "codemirror_mode": {
    "name": "ipython",
    "version": 3
   },
   "file_extension": ".py",
   "mimetype": "text/x-python",
   "name": "python",
   "nbconvert_exporter": "python",
   "pygments_lexer": "ipython3",
   "version": "3.11.11"
  }
 },
 "nbformat": 4,
 "nbformat_minor": 5
}
