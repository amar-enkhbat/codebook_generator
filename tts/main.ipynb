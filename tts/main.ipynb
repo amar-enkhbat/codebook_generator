{
 "cells": [
  {
   "cell_type": "code",
   "execution_count": 1,
   "id": "0a4da5f5",
   "metadata": {},
   "outputs": [
    {
     "name": "stderr",
     "output_type": "stream",
     "text": [
      "/Users/amar.enkhbat/.pyenv/versions/3.11.11/envs/tts/lib/python3.11/site-packages/tqdm/auto.py:21: TqdmWarning: IProgress not found. Please update jupyter and ipywidgets. See https://ipywidgets.readthedocs.io/en/stable/user_install.html\n",
      "  from .autonotebook import tqdm as notebook_tqdm\n"
     ]
    }
   ],
   "source": [
    "import os\n",
    "import pandas as pd\n",
    "from tqdm import tqdm\n",
    "\n",
    "import random\n",
    "import numpy as np\n",
    "import torch\n",
    "from TTS.api import TTS\n",
    "\n",
    "random.seed(0)\n",
    "np.random.seed(0)\n",
    "torch.manual_seed(0)\n",
    "# Get device\n",
    "device = \"cuda\" if torch.cuda.is_available() else \"cpu\"\n",
    "\n",
    "# Initialize TTS with the target model name\n",
    "config_path = './config.json'\n",
    "model_name = 'tacotron2-DCA'\n",
    "model_name = 'tts_models/multilingual/multi-dataset/xtts_v2'\n",
    "model_name = 'vits'\n",
    "tts = TTS(f\"tts_models/en/ljspeech/{model_name}\", config_path=config_path).to(device)"
   ]
  },
  {
   "cell_type": "code",
   "execution_count": 2,
   "id": "0d3007d2",
   "metadata": {},
   "outputs": [
    {
     "data": {
      "text/html": [
       "<div>\n",
       "<style scoped>\n",
       "    .dataframe tbody tr th:only-of-type {\n",
       "        vertical-align: middle;\n",
       "    }\n",
       "\n",
       "    .dataframe tbody tr th {\n",
       "        vertical-align: top;\n",
       "    }\n",
       "\n",
       "    .dataframe thead th {\n",
       "        text-align: right;\n",
       "    }\n",
       "</style>\n",
       "<table border=\"1\" class=\"dataframe\">\n",
       "  <thead>\n",
       "    <tr style=\"text-align: right;\">\n",
       "      <th></th>\n",
       "      <th>ref</th>\n",
       "      <th>target</th>\n",
       "      <th>sentence</th>\n",
       "    </tr>\n",
       "  </thead>\n",
       "  <tbody>\n",
       "    <tr>\n",
       "      <th>0</th>\n",
       "      <td>bottle</td>\n",
       "      <td>bandage</td>\n",
       "      <td>Select the object immediately to the right of ...</td>\n",
       "    </tr>\n",
       "    <tr>\n",
       "      <th>1</th>\n",
       "      <td>bottle</td>\n",
       "      <td>remote</td>\n",
       "      <td>Select the second object to the right of the b...</td>\n",
       "    </tr>\n",
       "    <tr>\n",
       "      <th>2</th>\n",
       "      <td>bottle</td>\n",
       "      <td>can</td>\n",
       "      <td>Select the third object to the right of the bo...</td>\n",
       "    </tr>\n",
       "    <tr>\n",
       "      <th>3</th>\n",
       "      <td>bottle</td>\n",
       "      <td>candle</td>\n",
       "      <td>Select the fourth object to the right of the b...</td>\n",
       "    </tr>\n",
       "    <tr>\n",
       "      <th>4</th>\n",
       "      <td>bottle</td>\n",
       "      <td>box</td>\n",
       "      <td>Select the fifth object to the right of the bo...</td>\n",
       "    </tr>\n",
       "  </tbody>\n",
       "</table>\n",
       "</div>"
      ],
      "text/plain": [
       "      ref   target                                           sentence\n",
       "0  bottle  bandage  Select the object immediately to the right of ...\n",
       "1  bottle   remote  Select the second object to the right of the b...\n",
       "2  bottle      can  Select the third object to the right of the bo...\n",
       "3  bottle   candle  Select the fourth object to the right of the b...\n",
       "4  bottle      box  Select the fifth object to the right of the bo..."
      ]
     },
     "execution_count": 2,
     "metadata": {},
     "output_type": "execute_result"
    }
   ],
   "source": [
    "df = pd.read_csv('queries.csv')\n",
    "df.head()"
   ]
  },
  {
   "cell_type": "code",
   "execution_count": 3,
   "id": "372b1ab3",
   "metadata": {},
   "outputs": [
    {
     "data": {
      "text/plain": [
       "'Select the object immediately to the right of the bottle.'"
      ]
     },
     "execution_count": 3,
     "metadata": {},
     "output_type": "execute_result"
    }
   ],
   "source": [
    "df.head()['sentence'][0]"
   ]
  },
  {
   "cell_type": "code",
   "execution_count": 5,
   "id": "c3c78609",
   "metadata": {},
   "outputs": [
    {
     "name": "stderr",
     "output_type": "stream",
     "text": [
      "100%|██████████| 56/56 [00:31<00:00,  1.75it/s]\n"
     ]
    }
   ],
   "source": [
    "# Run TTS\n",
    "for i, row in tqdm(df.iterrows(), total=len(df)):\n",
    "    text = row['sentence']\n",
    "    ref = row['ref']\n",
    "    target = row['target']\n",
    "    tts.tts_to_file(text=text, file_path=f'queries/{model_name}/output_{ref}2{target}.wav')\n"
   ]
  },
  {
   "cell_type": "code",
   "execution_count": null,
   "id": "996c34a5",
   "metadata": {},
   "outputs": [],
   "source": []
  },
  {
   "cell_type": "code",
   "execution_count": null,
   "id": "38f3461b",
   "metadata": {},
   "outputs": [],
   "source": []
  }
 ],
 "metadata": {
  "kernelspec": {
   "display_name": "tts",
   "language": "python",
   "name": "python3"
  },
  "language_info": {
   "codemirror_mode": {
    "name": "ipython",
    "version": 3
   },
   "file_extension": ".py",
   "mimetype": "text/x-python",
   "name": "python",
   "nbconvert_exporter": "python",
   "pygments_lexer": "ipython3",
   "version": "3.11.11"
  }
 },
 "nbformat": 4,
 "nbformat_minor": 5
}
