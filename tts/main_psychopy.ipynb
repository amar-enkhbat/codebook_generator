{
 "cells": [
  {
   "cell_type": "code",
   "execution_count": 4,
   "id": "2b1e70dc",
   "metadata": {},
   "outputs": [],
   "source": [
    "import pandas as pd\n",
    "from psychopy import sound\n",
    "from tqdm import tqdm"
   ]
  },
  {
   "cell_type": "code",
   "execution_count": 16,
   "id": "43354009",
   "metadata": {},
   "outputs": [
    {
     "name": "stderr",
     "output_type": "stream",
     "text": [
      "100%|██████████| 112/112 [01:24<00:00,  1.32it/s]\n",
      "100%|██████████| 112/112 [01:54<00:00,  1.02s/it]\n"
     ]
    }
   ],
   "source": [
    "df = pd.read_csv('queries.csv')\n",
    "\n",
    "# Run TTS\n",
    "for i, row in tqdm(df.iterrows(), total=len(df)):\n",
    "    text = row['sentence']\n",
    "    ref = row['ref']\n",
    "    target = row['target']\n",
    "    condition = row['condition']\n",
    "    voiceClip = sound.AudioClip.synthesizeSpeech(\n",
    "        text,\n",
    "        engine='gtts',\n",
    "        synthConfig={'lang': 'en', 'timeout': 10, 'tld': 'us'},\n",
    "        outFile=f'queries/psychopy/{condition}_{ref}2{target}.mp3'\n",
    "    )\n",
    "    \n",
    "# Run TTS (slowed down)\n",
    "for i, row in tqdm(df.iterrows(), total=len(df)):\n",
    "    text = row['sentence']\n",
    "    ref = row['ref']\n",
    "    target = row['target']\n",
    "    condition = row['condition']\n",
    "    voiceClip = sound.AudioClip.synthesizeSpeech(\n",
    "        text,\n",
    "        engine='gtts',\n",
    "        synthConfig={'lang': 'en', 'timeout': 10, 'tld': 'us', 'slow': True},\n",
    "        outFile=f'queries/psychopy_slowed/{condition}_{ref}2{target}.mp3'\n",
    "    )"
   ]
  },
  {
   "cell_type": "code",
   "execution_count": 13,
   "id": "908228cb",
   "metadata": {},
   "outputs": [],
   "source": [
    "# Run TTS for the descriptions\n",
    "descriptions = {\n",
    "    'scene': 'In the next task, items on the table will be highlighted.',\n",
    "    'screen': 'In the next task, items on the monitor will be highlighted.'\n",
    "}\n",
    "\n",
    "for cond in descriptions:\n",
    "    voiceClip = sound.AudioClip.synthesizeSpeech(\n",
    "        descriptions[cond],\n",
    "        engine='gtts',\n",
    "        synthConfig={'lang': 'en', 'timeout': 10, 'tld': 'us'},\n",
    "        outFile=f'queries/psychopy/description_{cond}.mp3'\n",
    "    )\n",
    "    break"
   ]
  },
  {
   "cell_type": "code",
   "execution_count": null,
   "id": "5ad6b94d",
   "metadata": {},
   "outputs": [
    {
     "name": "stdout",
     "output_type": "stream",
     "text": [
      "['./queries/psychopy/cond_1_candle2remote.mp3', './queries/psychopy/cond_2_candle2can.mp3', './queries/psychopy/cond_2_box2remote.mp3', './queries/psychopy/cond_1_bottle2cup.mp3', './queries/psychopy/cond_2_cup2candle.mp3']\n",
      "['./queries/psychopy_slowed/cond_1_candle2remote.mp3', './queries/psychopy_slowed/cond_2_candle2can.mp3', './queries/psychopy_slowed/cond_2_box2remote.mp3', './queries/psychopy_slowed/cond_1_bottle2cup.mp3', './queries/psychopy_slowed/cond_2_cup2candle.mp3']\n"
     ]
    }
   ],
   "source": [
    "# from audiostretchy.stretch import stretch_audio\n",
    "# from glob import glob\n",
    "\n",
    "# fpaths = glob('./queries/psychopy/*.mp3')\n",
    "# print(fpaths[:5])\n",
    "# output_fpaths = [fpath.replace('/psychopy/', '/psychopy_slowed/') for fpath in fpaths]\n",
    "# print(output_fpaths[:5])\n",
    "\n",
    "# for i in range(len(fpaths)):\n",
    "#     stretch_audio(fpaths[i], output_fpaths[i], ratio=1.1)"
   ]
  },
  {
   "cell_type": "code",
   "execution_count": null,
   "id": "bd39a5b8",
   "metadata": {},
   "outputs": [],
   "source": []
  }
 ],
 "metadata": {
  "kernelspec": {
   "display_name": "psychopy",
   "language": "python",
   "name": "python3"
  },
  "language_info": {
   "codemirror_mode": {
    "name": "ipython",
    "version": 3
   },
   "file_extension": ".py",
   "mimetype": "text/x-python",
   "name": "python",
   "nbconvert_exporter": "python",
   "pygments_lexer": "ipython3",
   "version": "3.10.16"
  }
 },
 "nbformat": 4,
 "nbformat_minor": 5
}
