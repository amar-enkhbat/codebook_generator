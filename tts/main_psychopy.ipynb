{
 "cells": [
  {
   "cell_type": "code",
   "execution_count": 1,
   "id": "2b1e70dc",
   "metadata": {},
   "outputs": [],
   "source": [
    "import pandas as pd\n",
    "from psychopy import sound\n",
    "from tqdm import tqdm"
   ]
  },
  {
   "cell_type": "code",
   "execution_count": null,
   "id": "43354009",
   "metadata": {},
   "outputs": [
    {
     "name": "stderr",
     "output_type": "stream",
     "text": [
      "100%|██████████| 56/56 [00:21<00:00,  2.58it/s]\n"
     ]
    }
   ],
   "source": [
    "df = pd.read_csv('queries.csv')\n",
    "df.head()\n",
    "\n",
    "# Run TTS\n",
    "for i, row in tqdm(df.iterrows(), total=len(df)):\n",
    "    text = row['sentence']\n",
    "    ref = row['ref']\n",
    "    target = row['target']\n",
    "    voiceClip = sound.AudioClip.synthesizeSpeech(\n",
    "        text,\n",
    "        engine='gtts',\n",
    "        synthConfig={'lang': 'en', 'timeout': 10, 'tld': 'us'},\n",
    "        outFile=f'queries/psychopy/output_{ref}2{target}.mp3'\n",
    "    )"
   ]
  },
  {
   "cell_type": "code",
   "execution_count": 4,
   "id": "908228cb",
   "metadata": {},
   "outputs": [],
   "source": [
    "# Run TTS for the descriptions\n",
    "descriptions = {\n",
    "    'scene': 'In the next task, items on the table will be highlighted.',\n",
    "    'screen': 'In the next task, items on the monitor will be highlighted.'\n",
    "}\n",
    "\n",
    "for cond in descriptions:\n",
    "    voiceClip = sound.AudioClip.synthesizeSpeech(\n",
    "    descriptions[cond],\n",
    "    engine='gtts',\n",
    "    synthConfig={'lang': 'en', 'timeout': 10, 'tld': 'us'},\n",
    "    outFile=f'queries/psychopy/description_{cond}.mp3'\n",
    ")"
   ]
  },
  {
   "cell_type": "code",
   "execution_count": null,
   "id": "31e53859",
   "metadata": {},
   "outputs": [],
   "source": []
  }
 ],
 "metadata": {
  "kernelspec": {
   "display_name": "psychopy",
   "language": "python",
   "name": "python3"
  },
  "language_info": {
   "codemirror_mode": {
    "name": "ipython",
    "version": 3
   },
   "file_extension": ".py",
   "mimetype": "text/x-python",
   "name": "python",
   "nbconvert_exporter": "python",
   "pygments_lexer": "ipython3",
   "version": "3.10.16"
  }
 },
 "nbformat": 4,
 "nbformat_minor": 5
}
