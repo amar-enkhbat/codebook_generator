{
 "cells": [
  {
   "cell_type": "markdown",
   "metadata": {},
   "source": [
    "# Session time calculator"
   ]
  },
  {
   "cell_type": "code",
   "execution_count": 12,
   "metadata": {},
   "outputs": [
    {
     "name": "stdout",
     "output_type": "stream",
     "text": [
      "Run duration: 275\n",
      "Kolkhorst duration: 1675\n",
      "Run duration: 179\n",
      "Other duration: 1195\n",
      "Total duration: 5980s, 99.66666666666667 mins\n"
     ]
    }
   ],
   "source": [
    "def calc_block_dur(trial_dur, cue_duration, trial_rest_dur, n_trials, n_runs, run_rest_dur):    \n",
    "    run_dur = (trial_dur + cue_duration + trial_rest_dur) * n_trials - trial_rest_dur\n",
    "    print('Run duration:', run_dur)\n",
    "    block_dur = (run_dur + run_rest_dur) * n_runs\n",
    "    return block_dur\n",
    "\n",
    "\n",
    "n_conditions = 4\n",
    "n_objects = 8\n",
    "n_runs = 5\n",
    "n_trials = 8\n",
    "\n",
    "cue_duration = 3*2 # Auditory cue duration. Play 3 second audio twice.\n",
    "trial_dur = 12 # Trial duration for other conditions\n",
    "trial_dur_kolkhorst = 24 # Trial duration used for Kolkhorst et al.\n",
    "\n",
    "trial_rest_dur = 5\n",
    "run_rest_dur = 60\n",
    "block_rest_dur = 180\n",
    "\n",
    "\n",
    "cond_1_dur = calc_block_dur(trial_dur_kolkhorst, cue_duration=cue_duration, trial_rest_dur=trial_rest_dur, n_trials=n_trials, n_runs=n_runs, run_rest_dur=run_rest_dur)\n",
    "print('Kolkhorst duration:', cond_1_dur)\n",
    "cond_2_dur = calc_block_dur(trial_dur, cue_duration=cue_duration, trial_rest_dur=trial_rest_dur, n_trials=n_trials, n_runs=n_runs, run_rest_dur=run_rest_dur)\n",
    "print('Other duration:', cond_2_dur)\n",
    "\n",
    "total_duration = cond_1_dur + cond_2_dur * (n_conditions - 1) + block_rest_dur * n_conditions\n",
    "print(f'Total duration: {total_duration}s, {total_duration/60} mins')"
   ]
  },
  {
   "cell_type": "code",
   "execution_count": null,
   "metadata": {},
   "outputs": [],
   "source": []
  }
 ],
 "metadata": {
  "kernelspec": {
   "display_name": "eeg_visual_exp",
   "language": "python",
   "name": "python3"
  },
  "language_info": {
   "codemirror_mode": {
    "name": "ipython",
    "version": 3
   },
   "file_extension": ".py",
   "mimetype": "text/x-python",
   "name": "python",
   "nbconvert_exporter": "python",
   "pygments_lexer": "ipython3",
   "version": "3.11.11"
  }
 },
 "nbformat": 4,
 "nbformat_minor": 2
}
