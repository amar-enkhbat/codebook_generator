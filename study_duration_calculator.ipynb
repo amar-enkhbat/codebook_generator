{
 "cells": [
  {
   "cell_type": "markdown",
   "metadata": {},
   "source": [
    "# Session time calculator"
   ]
  },
  {
   "cell_type": "code",
   "execution_count": 2,
   "metadata": {},
   "outputs": [],
   "source": [
    "import numpy as np\n",
    "import matplotlib.pyplot as plt"
   ]
  },
  {
   "cell_type": "code",
   "execution_count": 3,
   "metadata": {},
   "outputs": [
    {
     "name": "stdout",
     "output_type": "stream",
     "text": [
      "Kolkhorst duration: 1675\n",
      "Other duration: 1195\n",
      "Total duration: 5980s, 99.66666666666667 mins\n"
     ]
    }
   ],
   "source": [
    "def calc_block_dur(trial_dur, cue_duration, trial_rest_dur, n_trials, n_runs, run_rest_dur):    \n",
    "    run_dur = (trial_dur + cue_duration + trial_rest_dur) * n_trials - trial_rest_dur\n",
    "    block_dur = (run_dur + run_rest_dur) * n_runs\n",
    "    return run_dur, block_dur\n",
    "\n",
    "\n",
    "n_conditions = 4\n",
    "n_objects = 8\n",
    "n_runs = 5\n",
    "n_trials = 8\n",
    "n_targets = 12\n",
    "\n",
    "cue_duration = 3 * 2 # Auditory cue duration. Play 3 second audio twice.\n",
    "trial_dur = 12 # Trial duration for other conditions\n",
    "trial_dur_kolkhorst = 24 # Trial duration used for Kolkhorst et al.\n",
    "\n",
    "trial_rest_dur = 5\n",
    "run_rest_dur = 60\n",
    "block_rest_dur = 180\n",
    "\n",
    "\n",
    "cond_1_run_dur, cond_1_dur = calc_block_dur(trial_dur_kolkhorst, cue_duration=cue_duration, trial_rest_dur=trial_rest_dur, n_trials=n_trials, n_runs=n_runs, run_rest_dur=run_rest_dur)\n",
    "print('Kolkhorst duration:', cond_1_dur)\n",
    "cond_2_run_dur, cond_2_dur = calc_block_dur(trial_dur, cue_duration=cue_duration, trial_rest_dur=trial_rest_dur, n_trials=n_trials, n_runs=n_runs, run_rest_dur=run_rest_dur)\n",
    "print('Other duration:', cond_2_dur)\n",
    "\n",
    "total_duration = cond_1_dur + cond_2_dur * (n_conditions - 1) + block_rest_dur * n_conditions\n",
    "print(f'Total duration: {total_duration}s, {total_duration/60} mins')"
   ]
  },
  {
   "cell_type": "code",
   "execution_count": 4,
   "metadata": {},
   "outputs": [
    {
     "name": "stdout",
     "output_type": "stream",
     "text": [
      "Session duration (secs): 7252\n",
      "Session duration (mins): 120.86666666666666\n"
     ]
    }
   ],
   "source": [
    "preparation_time = 5 * 60\n",
    "consent_time = 5 * 60\n",
    "capping_time = 30 * 60\n",
    "familiarization_time = 10 * 60\n",
    "task_rest_time = 180\n",
    "questionnaire_time = 10 * 60\n",
    "leave_time = 5 * 60\n",
    "\n",
    "session_duration = preparation_time + consent_time + capping_time + familiarization_time + cond_1_dur + task_rest_time + cond_2_run_dur + task_rest_time + cond_2_run_dur + task_rest_time + questionnaire_time + cond_2_run_dur + questionnaire_time + leave_time\n",
    "\n",
    "print(f'Session duration (secs):', session_duration)\n",
    "print(f'Session duration (mins):', session_duration / 60)"
   ]
  },
  {
   "cell_type": "code",
   "execution_count": null,
   "metadata": {},
   "outputs": [],
   "source": []
  }
 ],
 "metadata": {
  "kernelspec": {
   "display_name": "mne",
   "language": "python",
   "name": "python3"
  },
  "language_info": {
   "codemirror_mode": {
    "name": "ipython",
    "version": 3
   },
   "file_extension": ".py",
   "mimetype": "text/x-python",
   "name": "python",
   "nbconvert_exporter": "python",
   "pygments_lexer": "ipython3",
   "version": "3.11.10"
  }
 },
 "nbformat": 4,
 "nbformat_minor": 2
}
